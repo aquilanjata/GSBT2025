{
  "nbformat": 4,
  "nbformat_minor": 0,
  "metadata": {
    "colab": {
      "provenance": []
    },
    "kernelspec": {
      "name": "python3",
      "display_name": "Python 3"
    },
    "language_info": {
      "name": "python"
    }
  },
  "cells": [
    {
      "cell_type": "code",
      "source": [
        "!pip install icecream -q\n",
        "from icecream import ic"
      ],
      "metadata": {
        "id": "CTWC1b4xjAgr"
      },
      "execution_count": 117,
      "outputs": []
    },
    {
      "cell_type": "markdown",
      "source": [
        "# Numpy Part 1"
      ],
      "metadata": {
        "id": "zJg53RsQxxle"
      }
    },
    {
      "cell_type": "markdown",
      "source": [
        "## Tugas 1: Persiapan Data\n",
        "- Import library NumPy\n",
        "- Buat sebuah NumPy array dengan data berikut: [25, -10, 0, -5, 40, 15].\n",
        "- Simpan array tersebut ke dalam variabel bernama nilai_ujian.\n",
        "- Cetak variabel nilai_ujian untuk memastikan data sudah benar\n"
      ],
      "metadata": {
        "id": "0J4yaW7XyDrv"
      }
    },
    {
      "cell_type": "code",
      "source": [
        "import numpy as np\n",
        "nilai_ujian = np.array([25,-10, 0, -5, 40, 15])\n",
        "print(nilai_ujian)"
      ],
      "metadata": {
        "id": "M8Qq86TLxzbm",
        "colab": {
          "base_uri": "https://localhost:8080/"
        },
        "outputId": "cf87a797-e685-4598-a0a3-1ef6ecbbe164"
      },
      "execution_count": 118,
      "outputs": [
        {
          "output_type": "stream",
          "name": "stdout",
          "text": [
            "[ 25 -10   0  -5  40  15]\n"
          ]
        }
      ]
    },
    {
      "cell_type": "markdown",
      "source": [
        "## Tugas 2: Analisis Statistik Dasar\n",
        "<br>Gunakan variabel `nilai_ujian` yang sudah dibuat untuk melakukan analisis berikut:\n",
        "- Hitung nilai rata-rata (mean) dari semua elemen dan simpan ke variabel `rata_rata`.\n",
        "- Temukan nilai tertinggi (max) dari semua elemen dan simpan ke variabel `nilai_tertinggi`.\n",
        "- Cetak kedua hasil tersebut dengan format yang jelas."
      ],
      "metadata": {
        "id": "1oVeARuIySlm"
      }
    },
    {
      "cell_type": "code",
      "source": [
        "rata_rata = nilai_ujian.mean()\n",
        "nilai_tertinggi = nilai_ujian.max()\n",
        "print(rata_rata)\n",
        "print(nilai_tertinggi)"
      ],
      "metadata": {
        "id": "-b1VztIbx6qZ",
        "colab": {
          "base_uri": "https://localhost:8080/"
        },
        "outputId": "37edbf4b-d31e-4802-8d78-ce585f4ead94"
      },
      "execution_count": 119,
      "outputs": [
        {
          "output_type": "stream",
          "name": "stdout",
          "text": [
            "10.833333333333334\n",
            "40\n"
          ]
        }
      ]
    },
    {
      "cell_type": "markdown",
      "source": [
        "## Tugas 3: Transformasi Nilai\n",
        "- Buat array baru bernama `nilai_absolut` yang berisi nilai mutlak (absolute) dari setiap elemen di `nilai_ujian`.\n",
        "- Buat array baru bernama `penanda_nilai` yang menunjukkan penanda (sign) dari setiap elemen (-1 untuk negatif, 0 untuk nol, 1 untuk positif).\n",
        "- Cetak kedua array baru tersebut."
      ],
      "metadata": {
        "id": "2aAFWkimyhQj"
      }
    },
    {
      "cell_type": "code",
      "source": [
        "nilai_absolut = np.absolute(nilai_ujian)\n",
        "penanda_nilai = np.sign(nilai_ujian)\n",
        "print(nilai_absolut)\n",
        "print(penanda_nilai)"
      ],
      "metadata": {
        "id": "NuvQ2ZZKx-TF",
        "colab": {
          "base_uri": "https://localhost:8080/"
        },
        "outputId": "f0c53c26-7f0c-48ab-f60d-fa92415f54b0"
      },
      "execution_count": 120,
      "outputs": [
        {
          "output_type": "stream",
          "name": "stdout",
          "text": [
            "[25 10  0  5 40 15]\n",
            "[ 1 -1  0 -1  1  1]\n"
          ]
        }
      ]
    },
    {
      "cell_type": "markdown",
      "source": [
        "## Tugas 4: Pengurutan Data\n",
        "- Gunakan fungsi `np.sort()` untuk membuat array baru yang sudah terurut dari `nilai_ujian`. Simpan ke variabel `nilai_terurut`.\n",
        "- Cetak `nilai_terurut`.\n",
        "- Cetak juga nilai_ujian yang asli untuk membuktikan bahwa array aslinya tidak berubah."
      ],
      "metadata": {
        "id": "cC_cM2rSzIUR"
      }
    },
    {
      "cell_type": "code",
      "source": [
        "nilai_terurut = np.sort(nilai_ujian)\n",
        "print(nilai_terurut)\n",
        "print(nilai_ujian)"
      ],
      "metadata": {
        "id": "KN9HQcc2yBjH",
        "colab": {
          "base_uri": "https://localhost:8080/"
        },
        "outputId": "64258208-4806-43b6-a663-806a1aa344bd"
      },
      "execution_count": 121,
      "outputs": [
        {
          "output_type": "stream",
          "name": "stdout",
          "text": [
            "[-10  -5   0  15  25  40]\n",
            "[ 25 -10   0  -5  40  15]\n"
          ]
        }
      ]
    },
    {
      "cell_type": "markdown",
      "source": [
        "# NumPy Part 2"
      ],
      "metadata": {
        "id": "TbZ4P31BvO9-"
      }
    },
    {
      "cell_type": "markdown",
      "source": [
        "## Tugas 1: Persiapan Data Awal\n",
        "- Import `library NumPy` dengan alias `np`.\n",
        "- Buat tiga buah array seperti di bawah ini:\n",
        "- `array_a`: Berisi nilai [5, 10, 15, 20, 25, 30]\n",
        "- `array_b`: Berisi nilai [2, 4, 6, 8, 10, 12]\n",
        "- `matriks_c`: Sebuah matriks 2x3 dengan data [[1, 2, 3], [4, 5, 6]]\n",
        "- Cetak ketiga variabel tersebut untuk memastikan data sudah benar."
      ],
      "metadata": {
        "id": "6mm3vZ_nwRs7"
      }
    },
    {
      "cell_type": "code",
      "source": [
        "import numpy as np\n",
        "array_a = np.array([5,10,15,20,25,30])\n",
        "array_b = np.array([2, 4, 6, 8, 10, 12])\n",
        "matriks_c = np.array([[1,2,3],[4,5,6]])\n",
        "print(array_a)\n",
        "print(array_b)\n",
        "print(matriks_c)"
      ],
      "metadata": {
        "id": "9jX6XkCRvRl1",
        "colab": {
          "base_uri": "https://localhost:8080/"
        },
        "outputId": "73af4a72-a295-484e-dea3-3263b2dd7206"
      },
      "execution_count": 122,
      "outputs": [
        {
          "output_type": "stream",
          "name": "stdout",
          "text": [
            "[ 5 10 15 20 25 30]\n",
            "[ 2  4  6  8 10 12]\n",
            "[[1 2 3]\n",
            " [4 5 6]]\n"
          ]
        }
      ]
    },
    {
      "cell_type": "markdown",
      "source": [
        "## Tugas 2: Menggabungkan dan Menumpuk Array\n",
        "- Gunakan `np.concatenate()` untuk menggabungkan `array_a` dan `array_b` menjadi satu array 1D.\n",
        "- Gunakan `np.vstack()` (vertical stack) untuk menumpuk `array_a` dan `array_b` secara vertikal, menghasilkan sebuah matriks 2D"
      ],
      "metadata": {
        "id": "jvKuqk8MyDZB"
      }
    },
    {
      "cell_type": "code",
      "source": [
        "array_conab = np.concatenate((array_a,array_b))\n",
        "print(array_conab)\n",
        "matriks_ab = np.vstack((array_a,array_b))\n",
        "print(matriks_ab)"
      ],
      "metadata": {
        "id": "RaLwoNKUw11j",
        "colab": {
          "base_uri": "https://localhost:8080/"
        },
        "outputId": "9a865a5e-f4c6-4969-dcc4-4c4c49529b09"
      },
      "execution_count": 123,
      "outputs": [
        {
          "output_type": "stream",
          "name": "stdout",
          "text": [
            "[ 5 10 15 20 25 30  2  4  6  8 10 12]\n",
            "[[ 5 10 15 20 25 30]\n",
            " [ 2  4  6  8 10 12]]\n"
          ]
        }
      ]
    },
    {
      "cell_type": "markdown",
      "source": [
        "## Tugas 3: Memisahkan Array\n",
        "- Gunakan `np.split()` untuk memisahkan `array_a` menjadi 3 bagian yang sama besar.\n",
        "- Buat array baru array_panjang dari 0-9.\n",
        "Gunakan `np.split()` untuk memisahkan `array_panjang` pada indeks ke-3 dan ke-7."
      ],
      "metadata": {
        "id": "OQDoa2YlyMX5"
      }
    },
    {
      "cell_type": "code",
      "source": [
        "array_as = np.split(array_a, 3)\n",
        "array_panjang = np.arange(10)\n",
        "array_splpan = np.split(array_panjang,[3, 7] )\n",
        "print(array_as)\n",
        "print(array_panjang)\n",
        "print(array_splpan)"
      ],
      "metadata": {
        "id": "MmDVXJm5yKZ3",
        "colab": {
          "base_uri": "https://localhost:8080/"
        },
        "outputId": "9daa3411-875f-453b-c5f0-bf78a36582b1"
      },
      "execution_count": 124,
      "outputs": [
        {
          "output_type": "stream",
          "name": "stdout",
          "text": [
            "[array([ 5, 10]), array([15, 20]), array([25, 30])]\n",
            "[0 1 2 3 4 5 6 7 8 9]\n",
            "[array([0, 1, 2]), array([3, 4, 5, 6]), array([7, 8, 9])]\n"
          ]
        }
      ]
    },
    {
      "cell_type": "markdown",
      "source": [
        "## Tugas 4: Operasi Aritmatika Dasar (Element-Wise)\n",
        "\n",
        "- Lakukan penjumlahan, perkalian, dan pembagian antara `array_a` dan `array_b`.\n",
        "- Lakukan operasi pangkat pada `array_b` dengan 2."
      ],
      "metadata": {
        "id": "Rqna30MhyaPg"
      }
    },
    {
      "cell_type": "code",
      "source": [
        "print(array_a + array_b)\n",
        "print(array_a * array_b)\n",
        "print(array_a / array_b)\n",
        "print(array_b ** 2)"
      ],
      "metadata": {
        "id": "7IaugQzHyVs1",
        "colab": {
          "base_uri": "https://localhost:8080/"
        },
        "outputId": "390f1121-32f1-4854-9fa2-8cf004092fb1"
      },
      "execution_count": 125,
      "outputs": [
        {
          "output_type": "stream",
          "name": "stdout",
          "text": [
            "[ 7 14 21 28 35 42]\n",
            "[ 10  40  90 160 250 360]\n",
            "[2.5 2.5 2.5 2.5 2.5 2.5]\n",
            "[  4  16  36  64 100 144]\n"
          ]
        }
      ]
    },
    {
      "cell_type": "markdown",
      "source": [
        "## Tugas 5: Fungsi Matematika Element-Wise\n",
        "\n",
        "- Hitung akar kuadrat (square root) dari `array_a`.\n",
        "- Hitung nilai sinus dari setiap elemen di `matriks_c`.\n",
        "- Buat array baru dengan nilai desimal, lalu bulatkan nilainya menggunakan `np.round()`."
      ],
      "metadata": {
        "id": "uTdHoJtUyiXH"
      }
    },
    {
      "cell_type": "code",
      "source": [
        "a_sqrt = np.sqrt(array_a)\n",
        "print(a_sqrt)\n",
        "c_sin = np.sin(matriks_c)\n",
        "print(c_sin)"
      ],
      "metadata": {
        "id": "4Bs-W72ByfeJ",
        "colab": {
          "base_uri": "https://localhost:8080/"
        },
        "outputId": "260d7a00-f013-4fb1-a79b-313b2fdc9604"
      },
      "execution_count": 126,
      "outputs": [
        {
          "output_type": "stream",
          "name": "stdout",
          "text": [
            "[2.23606798 3.16227766 3.87298335 4.47213595 5.         5.47722558]\n",
            "[[ 0.84147098  0.90929743  0.14112001]\n",
            " [-0.7568025  -0.95892427 -0.2794155 ]]\n"
          ]
        }
      ]
    },
    {
      "cell_type": "markdown",
      "source": [
        "## Tugas 6: Operasi Perbandingan (Element-Wise)\n",
        "- Bandingkan `array_a` dan `array_b` untuk mencari tahu elemen mana di `array_a` yang lebih besar.\n",
        "- Cari semua nilai di `array_a` yang lebih besar dari 18 dan tampilkan nilainya."
      ],
      "metadata": {
        "id": "bH0agaQDyquZ"
      }
    },
    {
      "cell_type": "code",
      "source": [
        "print(array_a > array_b)\n",
        "print(array_a[array_a > 18])"
      ],
      "metadata": {
        "id": "KNAa4p9Uyof5",
        "colab": {
          "base_uri": "https://localhost:8080/"
        },
        "outputId": "d69d1cc4-7ad7-4f42-d3ce-65598e8b1c6c"
      },
      "execution_count": 127,
      "outputs": [
        {
          "output_type": "stream",
          "name": "stdout",
          "text": [
            "[ True  True  True  True  True  True]\n",
            "[20 25 30]\n"
          ]
        }
      ]
    },
    {
      "cell_type": "markdown",
      "source": [
        "## Tugas 7: Operasi Matriks (Perkalian Matriks)\n",
        "\n",
        "- Buat matriks baru `matriks_d` berukuran 3x2.\n",
        "- Lakukan perkalian matriks antara `matriks_c` (2x3) dan `matriks_d` (3x2) menggunakan operator @.\n",
        "- Lakukan operasi yang sama menggunakan `np.dot()` untuk perbandingan."
      ],
      "metadata": {
        "id": "ptdvDC5oyxAX"
      }
    },
    {
      "cell_type": "code",
      "source": [
        "matriks_d = np.array([[1,2],[3,4],[5,6]])\n",
        "print(matriks_c)\n",
        "print(matriks_d)\n",
        "print(matriks_c @ matriks_d)\n",
        "print(np.dot(matriks_c, matriks_d))"
      ],
      "metadata": {
        "id": "P_QAEGs8yvrL",
        "colab": {
          "base_uri": "https://localhost:8080/"
        },
        "outputId": "4b004cf8-48e4-49a6-b864-d5112384195b"
      },
      "execution_count": 128,
      "outputs": [
        {
          "output_type": "stream",
          "name": "stdout",
          "text": [
            "[[1 2 3]\n",
            " [4 5 6]]\n",
            "[[1 2]\n",
            " [3 4]\n",
            " [5 6]]\n",
            "[[22 28]\n",
            " [49 64]]\n",
            "[[22 28]\n",
            " [49 64]]\n"
          ]
        }
      ]
    },
    {
      "cell_type": "markdown",
      "source": [
        "## Tugas 8: Operasi In-place (Modifikasi Langsung)\n",
        "\n",
        "- Buat salinan `array_a` menggunakan `.copy()` agar tidak mengubah data asli kita.\n",
        "- Gunakan operator += untuk menambahkan 5 ke setiap elemen di array salinan tersebut.\n",
        "- Cetak array salinan dan array asli untuk melihat perbedaannya."
      ],
      "metadata": {
        "id": "tyYG1Yyby-Qp"
      }
    },
    {
      "cell_type": "code",
      "source": [
        "array_pfive = array_a.copy()\n",
        "array_pfive += 5\n",
        "print(array_a)\n",
        "print(array_pfive)"
      ],
      "metadata": {
        "id": "46f87fRgzEet",
        "colab": {
          "base_uri": "https://localhost:8080/"
        },
        "outputId": "ebf9c8d7-c27c-4613-fcad-4bc105824700"
      },
      "execution_count": 129,
      "outputs": [
        {
          "output_type": "stream",
          "name": "stdout",
          "text": [
            "[ 5 10 15 20 25 30]\n",
            "[10 15 20 25 30 35]\n"
          ]
        }
      ]
    },
    {
      "cell_type": "markdown",
      "source": [
        "# Pandas"
      ],
      "metadata": {
        "id": "moyuEkc0x0Qq"
      }
    },
    {
      "cell_type": "markdown",
      "source": [
        "## Tugas 1: Membaca CSV dan Menampilkan Informasi Dasar"
      ],
      "metadata": {
        "id": "UG26UypadzIy"
      }
    },
    {
      "cell_type": "markdown",
      "source": [
        "**Instruksi:**\n",
        "1. Baca file bernama `data_hands-on_2.csv` ke dalam DataFrame bernama `df`.\n",
        "2. Tampilkan 5 baris pertama dengan `df.head()`.\n",
        "3. Tampilkan informasi ringkas dataset menggunakan `df.info()`.\n",
        "\n",
        "**Expected Output (contoh ringkas):**\n",
        "\n",
        "```\n",
        "   Diabetes_012  HighBP  HighChol  CholCheck   BMI  Smoker  Stroke  \\\n",
        "0           0.0     1.0       1.0        1.0  40.0     1.0     0.0   \n",
        "1           0.0     0.0       0.0        0.0  25.0     1.0     0.0   \n",
        "2           0.0     1.0       1.0        1.0  28.0     0.0     0.0   \n",
        "3           0.0     1.0       0.0        1.0  27.0     0.0     0.0   \n",
        "4           0.0     1.0       1.0        1.0  24.0     0.0     0.0   \n",
        "```\n",
        "\n",
        "```\n",
        "<class 'pandas.core.frame.DataFrame'>\n",
        "RangeIndex: ... entries, 0 to ...\n",
        "Data columns (total 22 columns):\n",
        " #   Column                Non-Null Count  Dtype  \n",
        "---  ------                --------------  -----  \n",
        " 0   Diabetes_012          ... non-null    float64\n",
        " 1   HighBP                ... non-null    float64\n",
        " ...\n",
        "21   Income                ... non-null    float64\n",
        "dtypes: float64(...), int64(...), object(...)\n",
        "memory usage: ...\n",
        "```"
      ],
      "metadata": {
        "id": "DxeGUiHicCqA"
      }
    },
    {
      "cell_type": "code",
      "source": [
        "# Write your code here\n",
        "import pandas as pd\n",
        "df = pd.read_csv('data_hands-on_2.csv')\n",
        "df.head(5)"
      ],
      "metadata": {
        "id": "8OCvflfoc1nW",
        "colab": {
          "base_uri": "https://localhost:8080/",
          "height": 256
        },
        "outputId": "320c2d52-5758-4494-e206-65900a8a8206"
      },
      "execution_count": 130,
      "outputs": [
        {
          "output_type": "execute_result",
          "data": {
            "text/plain": [
              "   Diabetes_012  HighBP  HighChol  CholCheck   BMI  Smoker  Stroke  \\\n",
              "0           0.0     1.0       1.0        1.0  40.0     1.0     0.0   \n",
              "1           0.0     0.0       0.0        0.0  25.0     1.0     0.0   \n",
              "2           0.0     1.0       1.0        1.0  28.0     0.0     0.0   \n",
              "3           0.0     1.0       0.0        1.0  27.0     0.0     0.0   \n",
              "4           0.0     1.0       1.0        1.0  24.0     0.0     0.0   \n",
              "\n",
              "   HeartDiseaseorAttack  PhysActivity  Fruits  ...  AnyHealthcare  \\\n",
              "0                   0.0           0.0     0.0  ...            1.0   \n",
              "1                   0.0           1.0     0.0  ...            0.0   \n",
              "2                   0.0           0.0     1.0  ...            1.0   \n",
              "3                   0.0           1.0     1.0  ...            1.0   \n",
              "4                   0.0           1.0     1.0  ...            1.0   \n",
              "\n",
              "   NoDocbcCost  GenHlth  MentHlth  PhysHlth  DiffWalk  Sex   Age  Education  \\\n",
              "0          0.0      5.0      18.0      15.0       1.0  0.0   9.0        4.0   \n",
              "1          1.0      3.0       0.0       0.0       0.0  0.0   7.0        6.0   \n",
              "2          1.0      5.0      30.0      30.0       1.0  0.0   9.0        4.0   \n",
              "3          0.0      2.0       0.0       0.0       0.0  0.0  11.0        3.0   \n",
              "4          0.0      2.0       3.0       0.0       0.0  0.0  11.0        5.0   \n",
              "\n",
              "   Income  \n",
              "0     3.0  \n",
              "1     1.0  \n",
              "2     8.0  \n",
              "3     6.0  \n",
              "4     4.0  \n",
              "\n",
              "[5 rows x 22 columns]"
            ],
            "text/html": [
              "\n",
              "  <div id=\"df-4998e27e-de3a-496b-b0c5-79942ed511fd\" class=\"colab-df-container\">\n",
              "    <div>\n",
              "<style scoped>\n",
              "    .dataframe tbody tr th:only-of-type {\n",
              "        vertical-align: middle;\n",
              "    }\n",
              "\n",
              "    .dataframe tbody tr th {\n",
              "        vertical-align: top;\n",
              "    }\n",
              "\n",
              "    .dataframe thead th {\n",
              "        text-align: right;\n",
              "    }\n",
              "</style>\n",
              "<table border=\"1\" class=\"dataframe\">\n",
              "  <thead>\n",
              "    <tr style=\"text-align: right;\">\n",
              "      <th></th>\n",
              "      <th>Diabetes_012</th>\n",
              "      <th>HighBP</th>\n",
              "      <th>HighChol</th>\n",
              "      <th>CholCheck</th>\n",
              "      <th>BMI</th>\n",
              "      <th>Smoker</th>\n",
              "      <th>Stroke</th>\n",
              "      <th>HeartDiseaseorAttack</th>\n",
              "      <th>PhysActivity</th>\n",
              "      <th>Fruits</th>\n",
              "      <th>...</th>\n",
              "      <th>AnyHealthcare</th>\n",
              "      <th>NoDocbcCost</th>\n",
              "      <th>GenHlth</th>\n",
              "      <th>MentHlth</th>\n",
              "      <th>PhysHlth</th>\n",
              "      <th>DiffWalk</th>\n",
              "      <th>Sex</th>\n",
              "      <th>Age</th>\n",
              "      <th>Education</th>\n",
              "      <th>Income</th>\n",
              "    </tr>\n",
              "  </thead>\n",
              "  <tbody>\n",
              "    <tr>\n",
              "      <th>0</th>\n",
              "      <td>0.0</td>\n",
              "      <td>1.0</td>\n",
              "      <td>1.0</td>\n",
              "      <td>1.0</td>\n",
              "      <td>40.0</td>\n",
              "      <td>1.0</td>\n",
              "      <td>0.0</td>\n",
              "      <td>0.0</td>\n",
              "      <td>0.0</td>\n",
              "      <td>0.0</td>\n",
              "      <td>...</td>\n",
              "      <td>1.0</td>\n",
              "      <td>0.0</td>\n",
              "      <td>5.0</td>\n",
              "      <td>18.0</td>\n",
              "      <td>15.0</td>\n",
              "      <td>1.0</td>\n",
              "      <td>0.0</td>\n",
              "      <td>9.0</td>\n",
              "      <td>4.0</td>\n",
              "      <td>3.0</td>\n",
              "    </tr>\n",
              "    <tr>\n",
              "      <th>1</th>\n",
              "      <td>0.0</td>\n",
              "      <td>0.0</td>\n",
              "      <td>0.0</td>\n",
              "      <td>0.0</td>\n",
              "      <td>25.0</td>\n",
              "      <td>1.0</td>\n",
              "      <td>0.0</td>\n",
              "      <td>0.0</td>\n",
              "      <td>1.0</td>\n",
              "      <td>0.0</td>\n",
              "      <td>...</td>\n",
              "      <td>0.0</td>\n",
              "      <td>1.0</td>\n",
              "      <td>3.0</td>\n",
              "      <td>0.0</td>\n",
              "      <td>0.0</td>\n",
              "      <td>0.0</td>\n",
              "      <td>0.0</td>\n",
              "      <td>7.0</td>\n",
              "      <td>6.0</td>\n",
              "      <td>1.0</td>\n",
              "    </tr>\n",
              "    <tr>\n",
              "      <th>2</th>\n",
              "      <td>0.0</td>\n",
              "      <td>1.0</td>\n",
              "      <td>1.0</td>\n",
              "      <td>1.0</td>\n",
              "      <td>28.0</td>\n",
              "      <td>0.0</td>\n",
              "      <td>0.0</td>\n",
              "      <td>0.0</td>\n",
              "      <td>0.0</td>\n",
              "      <td>1.0</td>\n",
              "      <td>...</td>\n",
              "      <td>1.0</td>\n",
              "      <td>1.0</td>\n",
              "      <td>5.0</td>\n",
              "      <td>30.0</td>\n",
              "      <td>30.0</td>\n",
              "      <td>1.0</td>\n",
              "      <td>0.0</td>\n",
              "      <td>9.0</td>\n",
              "      <td>4.0</td>\n",
              "      <td>8.0</td>\n",
              "    </tr>\n",
              "    <tr>\n",
              "      <th>3</th>\n",
              "      <td>0.0</td>\n",
              "      <td>1.0</td>\n",
              "      <td>0.0</td>\n",
              "      <td>1.0</td>\n",
              "      <td>27.0</td>\n",
              "      <td>0.0</td>\n",
              "      <td>0.0</td>\n",
              "      <td>0.0</td>\n",
              "      <td>1.0</td>\n",
              "      <td>1.0</td>\n",
              "      <td>...</td>\n",
              "      <td>1.0</td>\n",
              "      <td>0.0</td>\n",
              "      <td>2.0</td>\n",
              "      <td>0.0</td>\n",
              "      <td>0.0</td>\n",
              "      <td>0.0</td>\n",
              "      <td>0.0</td>\n",
              "      <td>11.0</td>\n",
              "      <td>3.0</td>\n",
              "      <td>6.0</td>\n",
              "    </tr>\n",
              "    <tr>\n",
              "      <th>4</th>\n",
              "      <td>0.0</td>\n",
              "      <td>1.0</td>\n",
              "      <td>1.0</td>\n",
              "      <td>1.0</td>\n",
              "      <td>24.0</td>\n",
              "      <td>0.0</td>\n",
              "      <td>0.0</td>\n",
              "      <td>0.0</td>\n",
              "      <td>1.0</td>\n",
              "      <td>1.0</td>\n",
              "      <td>...</td>\n",
              "      <td>1.0</td>\n",
              "      <td>0.0</td>\n",
              "      <td>2.0</td>\n",
              "      <td>3.0</td>\n",
              "      <td>0.0</td>\n",
              "      <td>0.0</td>\n",
              "      <td>0.0</td>\n",
              "      <td>11.0</td>\n",
              "      <td>5.0</td>\n",
              "      <td>4.0</td>\n",
              "    </tr>\n",
              "  </tbody>\n",
              "</table>\n",
              "<p>5 rows × 22 columns</p>\n",
              "</div>\n",
              "    <div class=\"colab-df-buttons\">\n",
              "\n",
              "  <div class=\"colab-df-container\">\n",
              "    <button class=\"colab-df-convert\" onclick=\"convertToInteractive('df-4998e27e-de3a-496b-b0c5-79942ed511fd')\"\n",
              "            title=\"Convert this dataframe to an interactive table.\"\n",
              "            style=\"display:none;\">\n",
              "\n",
              "  <svg xmlns=\"http://www.w3.org/2000/svg\" height=\"24px\" viewBox=\"0 -960 960 960\">\n",
              "    <path d=\"M120-120v-720h720v720H120Zm60-500h600v-160H180v160Zm220 220h160v-160H400v160Zm0 220h160v-160H400v160ZM180-400h160v-160H180v160Zm440 0h160v-160H620v160ZM180-180h160v-160H180v160Zm440 0h160v-160H620v160Z\"/>\n",
              "  </svg>\n",
              "    </button>\n",
              "\n",
              "  <style>\n",
              "    .colab-df-container {\n",
              "      display:flex;\n",
              "      gap: 12px;\n",
              "    }\n",
              "\n",
              "    .colab-df-convert {\n",
              "      background-color: #E8F0FE;\n",
              "      border: none;\n",
              "      border-radius: 50%;\n",
              "      cursor: pointer;\n",
              "      display: none;\n",
              "      fill: #1967D2;\n",
              "      height: 32px;\n",
              "      padding: 0 0 0 0;\n",
              "      width: 32px;\n",
              "    }\n",
              "\n",
              "    .colab-df-convert:hover {\n",
              "      background-color: #E2EBFA;\n",
              "      box-shadow: 0px 1px 2px rgba(60, 64, 67, 0.3), 0px 1px 3px 1px rgba(60, 64, 67, 0.15);\n",
              "      fill: #174EA6;\n",
              "    }\n",
              "\n",
              "    .colab-df-buttons div {\n",
              "      margin-bottom: 4px;\n",
              "    }\n",
              "\n",
              "    [theme=dark] .colab-df-convert {\n",
              "      background-color: #3B4455;\n",
              "      fill: #D2E3FC;\n",
              "    }\n",
              "\n",
              "    [theme=dark] .colab-df-convert:hover {\n",
              "      background-color: #434B5C;\n",
              "      box-shadow: 0px 1px 3px 1px rgba(0, 0, 0, 0.15);\n",
              "      filter: drop-shadow(0px 1px 2px rgba(0, 0, 0, 0.3));\n",
              "      fill: #FFFFFF;\n",
              "    }\n",
              "  </style>\n",
              "\n",
              "    <script>\n",
              "      const buttonEl =\n",
              "        document.querySelector('#df-4998e27e-de3a-496b-b0c5-79942ed511fd button.colab-df-convert');\n",
              "      buttonEl.style.display =\n",
              "        google.colab.kernel.accessAllowed ? 'block' : 'none';\n",
              "\n",
              "      async function convertToInteractive(key) {\n",
              "        const element = document.querySelector('#df-4998e27e-de3a-496b-b0c5-79942ed511fd');\n",
              "        const dataTable =\n",
              "          await google.colab.kernel.invokeFunction('convertToInteractive',\n",
              "                                                    [key], {});\n",
              "        if (!dataTable) return;\n",
              "\n",
              "        const docLinkHtml = 'Like what you see? Visit the ' +\n",
              "          '<a target=\"_blank\" href=https://colab.research.google.com/notebooks/data_table.ipynb>data table notebook</a>'\n",
              "          + ' to learn more about interactive tables.';\n",
              "        element.innerHTML = '';\n",
              "        dataTable['output_type'] = 'display_data';\n",
              "        await google.colab.output.renderOutput(dataTable, element);\n",
              "        const docLink = document.createElement('div');\n",
              "        docLink.innerHTML = docLinkHtml;\n",
              "        element.appendChild(docLink);\n",
              "      }\n",
              "    </script>\n",
              "  </div>\n",
              "\n",
              "\n",
              "    <div id=\"df-77e457ad-089e-429f-8415-c1da4b30a5ab\">\n",
              "      <button class=\"colab-df-quickchart\" onclick=\"quickchart('df-77e457ad-089e-429f-8415-c1da4b30a5ab')\"\n",
              "                title=\"Suggest charts\"\n",
              "                style=\"display:none;\">\n",
              "\n",
              "<svg xmlns=\"http://www.w3.org/2000/svg\" height=\"24px\"viewBox=\"0 0 24 24\"\n",
              "     width=\"24px\">\n",
              "    <g>\n",
              "        <path d=\"M19 3H5c-1.1 0-2 .9-2 2v14c0 1.1.9 2 2 2h14c1.1 0 2-.9 2-2V5c0-1.1-.9-2-2-2zM9 17H7v-7h2v7zm4 0h-2V7h2v10zm4 0h-2v-4h2v4z\"/>\n",
              "    </g>\n",
              "</svg>\n",
              "      </button>\n",
              "\n",
              "<style>\n",
              "  .colab-df-quickchart {\n",
              "      --bg-color: #E8F0FE;\n",
              "      --fill-color: #1967D2;\n",
              "      --hover-bg-color: #E2EBFA;\n",
              "      --hover-fill-color: #174EA6;\n",
              "      --disabled-fill-color: #AAA;\n",
              "      --disabled-bg-color: #DDD;\n",
              "  }\n",
              "\n",
              "  [theme=dark] .colab-df-quickchart {\n",
              "      --bg-color: #3B4455;\n",
              "      --fill-color: #D2E3FC;\n",
              "      --hover-bg-color: #434B5C;\n",
              "      --hover-fill-color: #FFFFFF;\n",
              "      --disabled-bg-color: #3B4455;\n",
              "      --disabled-fill-color: #666;\n",
              "  }\n",
              "\n",
              "  .colab-df-quickchart {\n",
              "    background-color: var(--bg-color);\n",
              "    border: none;\n",
              "    border-radius: 50%;\n",
              "    cursor: pointer;\n",
              "    display: none;\n",
              "    fill: var(--fill-color);\n",
              "    height: 32px;\n",
              "    padding: 0;\n",
              "    width: 32px;\n",
              "  }\n",
              "\n",
              "  .colab-df-quickchart:hover {\n",
              "    background-color: var(--hover-bg-color);\n",
              "    box-shadow: 0 1px 2px rgba(60, 64, 67, 0.3), 0 1px 3px 1px rgba(60, 64, 67, 0.15);\n",
              "    fill: var(--button-hover-fill-color);\n",
              "  }\n",
              "\n",
              "  .colab-df-quickchart-complete:disabled,\n",
              "  .colab-df-quickchart-complete:disabled:hover {\n",
              "    background-color: var(--disabled-bg-color);\n",
              "    fill: var(--disabled-fill-color);\n",
              "    box-shadow: none;\n",
              "  }\n",
              "\n",
              "  .colab-df-spinner {\n",
              "    border: 2px solid var(--fill-color);\n",
              "    border-color: transparent;\n",
              "    border-bottom-color: var(--fill-color);\n",
              "    animation:\n",
              "      spin 1s steps(1) infinite;\n",
              "  }\n",
              "\n",
              "  @keyframes spin {\n",
              "    0% {\n",
              "      border-color: transparent;\n",
              "      border-bottom-color: var(--fill-color);\n",
              "      border-left-color: var(--fill-color);\n",
              "    }\n",
              "    20% {\n",
              "      border-color: transparent;\n",
              "      border-left-color: var(--fill-color);\n",
              "      border-top-color: var(--fill-color);\n",
              "    }\n",
              "    30% {\n",
              "      border-color: transparent;\n",
              "      border-left-color: var(--fill-color);\n",
              "      border-top-color: var(--fill-color);\n",
              "      border-right-color: var(--fill-color);\n",
              "    }\n",
              "    40% {\n",
              "      border-color: transparent;\n",
              "      border-right-color: var(--fill-color);\n",
              "      border-top-color: var(--fill-color);\n",
              "    }\n",
              "    60% {\n",
              "      border-color: transparent;\n",
              "      border-right-color: var(--fill-color);\n",
              "    }\n",
              "    80% {\n",
              "      border-color: transparent;\n",
              "      border-right-color: var(--fill-color);\n",
              "      border-bottom-color: var(--fill-color);\n",
              "    }\n",
              "    90% {\n",
              "      border-color: transparent;\n",
              "      border-bottom-color: var(--fill-color);\n",
              "    }\n",
              "  }\n",
              "</style>\n",
              "\n",
              "      <script>\n",
              "        async function quickchart(key) {\n",
              "          const quickchartButtonEl =\n",
              "            document.querySelector('#' + key + ' button');\n",
              "          quickchartButtonEl.disabled = true;  // To prevent multiple clicks.\n",
              "          quickchartButtonEl.classList.add('colab-df-spinner');\n",
              "          try {\n",
              "            const charts = await google.colab.kernel.invokeFunction(\n",
              "                'suggestCharts', [key], {});\n",
              "          } catch (error) {\n",
              "            console.error('Error during call to suggestCharts:', error);\n",
              "          }\n",
              "          quickchartButtonEl.classList.remove('colab-df-spinner');\n",
              "          quickchartButtonEl.classList.add('colab-df-quickchart-complete');\n",
              "        }\n",
              "        (() => {\n",
              "          let quickchartButtonEl =\n",
              "            document.querySelector('#df-77e457ad-089e-429f-8415-c1da4b30a5ab button');\n",
              "          quickchartButtonEl.style.display =\n",
              "            google.colab.kernel.accessAllowed ? 'block' : 'none';\n",
              "        })();\n",
              "      </script>\n",
              "    </div>\n",
              "\n",
              "    </div>\n",
              "  </div>\n"
            ],
            "application/vnd.google.colaboratory.intrinsic+json": {
              "type": "dataframe",
              "variable_name": "df"
            }
          },
          "metadata": {},
          "execution_count": 130
        }
      ]
    },
    {
      "cell_type": "code",
      "source": [
        "df.info()"
      ],
      "metadata": {
        "colab": {
          "base_uri": "https://localhost:8080/"
        },
        "id": "k1b2TDsfH4Is",
        "outputId": "8024a211-4e77-490c-a346-c4cdb623a20c"
      },
      "execution_count": 131,
      "outputs": [
        {
          "output_type": "stream",
          "name": "stdout",
          "text": [
            "<class 'pandas.core.frame.DataFrame'>\n",
            "RangeIndex: 253680 entries, 0 to 253679\n",
            "Data columns (total 22 columns):\n",
            " #   Column                Non-Null Count   Dtype  \n",
            "---  ------                --------------   -----  \n",
            " 0   Diabetes_012          253680 non-null  float64\n",
            " 1   HighBP                253680 non-null  float64\n",
            " 2   HighChol              253680 non-null  float64\n",
            " 3   CholCheck             253680 non-null  float64\n",
            " 4   BMI                   253680 non-null  float64\n",
            " 5   Smoker                253680 non-null  float64\n",
            " 6   Stroke                253680 non-null  float64\n",
            " 7   HeartDiseaseorAttack  253680 non-null  float64\n",
            " 8   PhysActivity          253680 non-null  float64\n",
            " 9   Fruits                253680 non-null  float64\n",
            " 10  Veggies               253680 non-null  float64\n",
            " 11  HvyAlcoholConsump     253680 non-null  float64\n",
            " 12  AnyHealthcare         253680 non-null  float64\n",
            " 13  NoDocbcCost           253680 non-null  float64\n",
            " 14  GenHlth               253680 non-null  float64\n",
            " 15  MentHlth              253680 non-null  float64\n",
            " 16  PhysHlth              253680 non-null  float64\n",
            " 17  DiffWalk              253680 non-null  float64\n",
            " 18  Sex                   253680 non-null  float64\n",
            " 19  Age                   253680 non-null  float64\n",
            " 20  Education             253680 non-null  float64\n",
            " 21  Income                253680 non-null  float64\n",
            "dtypes: float64(22)\n",
            "memory usage: 42.6 MB\n"
          ]
        }
      ]
    },
    {
      "cell_type": "markdown",
      "source": [
        "## Tugas 2: Eksplorasi Statistik Deskriptif"
      ],
      "metadata": {
        "id": "6ye1bCP7dvjw"
      }
    },
    {
      "cell_type": "markdown",
      "source": [
        "**Instruksi:**\n",
        "1. Jalankan `df.describe()` untuk melihat ringkasan default.\n",
        "2. Coba tampilkan ringkasan **hanya untuk kolom object**.\n",
        "  - Jika error, maka artinya tidak ada column object, bisa dilewati saja  \n",
        "  - (Opsional) Bisa gunakan error handling untuk handle ketika tidak ada kolom object, tampilkan pesan `\"Tidak ada kolom object dalam dataset.\"`.\n",
        "3. Jalankan `df.describe(include=['number'])` untuk ringkasan numerik.\n",
        "4. Ubah persentil yang ditampilkan menjadi **5%, 50%, dan 95%**.\n",
        "\n",
        "**Expected Output (contoh ringkas):**\n",
        "- Default: ringkasan statistik semua kolom numerik.  \n",
        "- Object: `\"Tidak ada kolom object dalam dataset.\"`  \n",
        "- Numeric: ringkasan numerik sama dengan default.  \n",
        "- Custom percentiles: statistik dengan 5%, 50%, 95%."
      ],
      "metadata": {
        "id": "uLFyPwVbd6gt"
      }
    },
    {
      "cell_type": "code",
      "source": [
        "# Write your code here\n",
        "df.describe()"
      ],
      "metadata": {
        "id": "ayF8mPNefPC1",
        "colab": {
          "base_uri": "https://localhost:8080/",
          "height": 350
        },
        "outputId": "d0b0d4d1-029e-4174-ce02-8567b68e6776"
      },
      "execution_count": 132,
      "outputs": [
        {
          "output_type": "execute_result",
          "data": {
            "text/plain": [
              "        Diabetes_012         HighBP       HighChol      CholCheck  \\\n",
              "count  253680.000000  253680.000000  253680.000000  253680.000000   \n",
              "mean        0.296921       0.429001       0.424121       0.962670   \n",
              "std         0.698160       0.494934       0.494210       0.189571   \n",
              "min         0.000000       0.000000       0.000000       0.000000   \n",
              "25%         0.000000       0.000000       0.000000       1.000000   \n",
              "50%         0.000000       0.000000       0.000000       1.000000   \n",
              "75%         0.000000       1.000000       1.000000       1.000000   \n",
              "max         2.000000       1.000000       1.000000       1.000000   \n",
              "\n",
              "                 BMI         Smoker         Stroke  HeartDiseaseorAttack  \\\n",
              "count  253680.000000  253680.000000  253680.000000         253680.000000   \n",
              "mean       28.382364       0.443169       0.040571              0.094186   \n",
              "std         6.608694       0.496761       0.197294              0.292087   \n",
              "min        12.000000       0.000000       0.000000              0.000000   \n",
              "25%        24.000000       0.000000       0.000000              0.000000   \n",
              "50%        27.000000       0.000000       0.000000              0.000000   \n",
              "75%        31.000000       1.000000       0.000000              0.000000   \n",
              "max        98.000000       1.000000       1.000000              1.000000   \n",
              "\n",
              "        PhysActivity         Fruits  ...  AnyHealthcare    NoDocbcCost  \\\n",
              "count  253680.000000  253680.000000  ...  253680.000000  253680.000000   \n",
              "mean        0.756544       0.634256  ...       0.951053       0.084177   \n",
              "std         0.429169       0.481639  ...       0.215759       0.277654   \n",
              "min         0.000000       0.000000  ...       0.000000       0.000000   \n",
              "25%         1.000000       0.000000  ...       1.000000       0.000000   \n",
              "50%         1.000000       1.000000  ...       1.000000       0.000000   \n",
              "75%         1.000000       1.000000  ...       1.000000       0.000000   \n",
              "max         1.000000       1.000000  ...       1.000000       1.000000   \n",
              "\n",
              "             GenHlth       MentHlth       PhysHlth       DiffWalk  \\\n",
              "count  253680.000000  253680.000000  253680.000000  253680.000000   \n",
              "mean        2.511392       3.184772       4.242081       0.168224   \n",
              "std         1.068477       7.412847       8.717951       0.374066   \n",
              "min         1.000000       0.000000       0.000000       0.000000   \n",
              "25%         2.000000       0.000000       0.000000       0.000000   \n",
              "50%         2.000000       0.000000       0.000000       0.000000   \n",
              "75%         3.000000       2.000000       3.000000       0.000000   \n",
              "max         5.000000      30.000000      30.000000       1.000000   \n",
              "\n",
              "                 Sex            Age      Education         Income  \n",
              "count  253680.000000  253680.000000  253680.000000  253680.000000  \n",
              "mean        0.440342       8.032119       5.050434       6.053875  \n",
              "std         0.496429       3.054220       0.985774       2.071148  \n",
              "min         0.000000       1.000000       1.000000       1.000000  \n",
              "25%         0.000000       6.000000       4.000000       5.000000  \n",
              "50%         0.000000       8.000000       5.000000       7.000000  \n",
              "75%         1.000000      10.000000       6.000000       8.000000  \n",
              "max         1.000000      13.000000       6.000000       8.000000  \n",
              "\n",
              "[8 rows x 22 columns]"
            ],
            "text/html": [
              "\n",
              "  <div id=\"df-b3643741-e1d2-48d9-bdc6-580ce57e175f\" class=\"colab-df-container\">\n",
              "    <div>\n",
              "<style scoped>\n",
              "    .dataframe tbody tr th:only-of-type {\n",
              "        vertical-align: middle;\n",
              "    }\n",
              "\n",
              "    .dataframe tbody tr th {\n",
              "        vertical-align: top;\n",
              "    }\n",
              "\n",
              "    .dataframe thead th {\n",
              "        text-align: right;\n",
              "    }\n",
              "</style>\n",
              "<table border=\"1\" class=\"dataframe\">\n",
              "  <thead>\n",
              "    <tr style=\"text-align: right;\">\n",
              "      <th></th>\n",
              "      <th>Diabetes_012</th>\n",
              "      <th>HighBP</th>\n",
              "      <th>HighChol</th>\n",
              "      <th>CholCheck</th>\n",
              "      <th>BMI</th>\n",
              "      <th>Smoker</th>\n",
              "      <th>Stroke</th>\n",
              "      <th>HeartDiseaseorAttack</th>\n",
              "      <th>PhysActivity</th>\n",
              "      <th>Fruits</th>\n",
              "      <th>...</th>\n",
              "      <th>AnyHealthcare</th>\n",
              "      <th>NoDocbcCost</th>\n",
              "      <th>GenHlth</th>\n",
              "      <th>MentHlth</th>\n",
              "      <th>PhysHlth</th>\n",
              "      <th>DiffWalk</th>\n",
              "      <th>Sex</th>\n",
              "      <th>Age</th>\n",
              "      <th>Education</th>\n",
              "      <th>Income</th>\n",
              "    </tr>\n",
              "  </thead>\n",
              "  <tbody>\n",
              "    <tr>\n",
              "      <th>count</th>\n",
              "      <td>253680.000000</td>\n",
              "      <td>253680.000000</td>\n",
              "      <td>253680.000000</td>\n",
              "      <td>253680.000000</td>\n",
              "      <td>253680.000000</td>\n",
              "      <td>253680.000000</td>\n",
              "      <td>253680.000000</td>\n",
              "      <td>253680.000000</td>\n",
              "      <td>253680.000000</td>\n",
              "      <td>253680.000000</td>\n",
              "      <td>...</td>\n",
              "      <td>253680.000000</td>\n",
              "      <td>253680.000000</td>\n",
              "      <td>253680.000000</td>\n",
              "      <td>253680.000000</td>\n",
              "      <td>253680.000000</td>\n",
              "      <td>253680.000000</td>\n",
              "      <td>253680.000000</td>\n",
              "      <td>253680.000000</td>\n",
              "      <td>253680.000000</td>\n",
              "      <td>253680.000000</td>\n",
              "    </tr>\n",
              "    <tr>\n",
              "      <th>mean</th>\n",
              "      <td>0.296921</td>\n",
              "      <td>0.429001</td>\n",
              "      <td>0.424121</td>\n",
              "      <td>0.962670</td>\n",
              "      <td>28.382364</td>\n",
              "      <td>0.443169</td>\n",
              "      <td>0.040571</td>\n",
              "      <td>0.094186</td>\n",
              "      <td>0.756544</td>\n",
              "      <td>0.634256</td>\n",
              "      <td>...</td>\n",
              "      <td>0.951053</td>\n",
              "      <td>0.084177</td>\n",
              "      <td>2.511392</td>\n",
              "      <td>3.184772</td>\n",
              "      <td>4.242081</td>\n",
              "      <td>0.168224</td>\n",
              "      <td>0.440342</td>\n",
              "      <td>8.032119</td>\n",
              "      <td>5.050434</td>\n",
              "      <td>6.053875</td>\n",
              "    </tr>\n",
              "    <tr>\n",
              "      <th>std</th>\n",
              "      <td>0.698160</td>\n",
              "      <td>0.494934</td>\n",
              "      <td>0.494210</td>\n",
              "      <td>0.189571</td>\n",
              "      <td>6.608694</td>\n",
              "      <td>0.496761</td>\n",
              "      <td>0.197294</td>\n",
              "      <td>0.292087</td>\n",
              "      <td>0.429169</td>\n",
              "      <td>0.481639</td>\n",
              "      <td>...</td>\n",
              "      <td>0.215759</td>\n",
              "      <td>0.277654</td>\n",
              "      <td>1.068477</td>\n",
              "      <td>7.412847</td>\n",
              "      <td>8.717951</td>\n",
              "      <td>0.374066</td>\n",
              "      <td>0.496429</td>\n",
              "      <td>3.054220</td>\n",
              "      <td>0.985774</td>\n",
              "      <td>2.071148</td>\n",
              "    </tr>\n",
              "    <tr>\n",
              "      <th>min</th>\n",
              "      <td>0.000000</td>\n",
              "      <td>0.000000</td>\n",
              "      <td>0.000000</td>\n",
              "      <td>0.000000</td>\n",
              "      <td>12.000000</td>\n",
              "      <td>0.000000</td>\n",
              "      <td>0.000000</td>\n",
              "      <td>0.000000</td>\n",
              "      <td>0.000000</td>\n",
              "      <td>0.000000</td>\n",
              "      <td>...</td>\n",
              "      <td>0.000000</td>\n",
              "      <td>0.000000</td>\n",
              "      <td>1.000000</td>\n",
              "      <td>0.000000</td>\n",
              "      <td>0.000000</td>\n",
              "      <td>0.000000</td>\n",
              "      <td>0.000000</td>\n",
              "      <td>1.000000</td>\n",
              "      <td>1.000000</td>\n",
              "      <td>1.000000</td>\n",
              "    </tr>\n",
              "    <tr>\n",
              "      <th>25%</th>\n",
              "      <td>0.000000</td>\n",
              "      <td>0.000000</td>\n",
              "      <td>0.000000</td>\n",
              "      <td>1.000000</td>\n",
              "      <td>24.000000</td>\n",
              "      <td>0.000000</td>\n",
              "      <td>0.000000</td>\n",
              "      <td>0.000000</td>\n",
              "      <td>1.000000</td>\n",
              "      <td>0.000000</td>\n",
              "      <td>...</td>\n",
              "      <td>1.000000</td>\n",
              "      <td>0.000000</td>\n",
              "      <td>2.000000</td>\n",
              "      <td>0.000000</td>\n",
              "      <td>0.000000</td>\n",
              "      <td>0.000000</td>\n",
              "      <td>0.000000</td>\n",
              "      <td>6.000000</td>\n",
              "      <td>4.000000</td>\n",
              "      <td>5.000000</td>\n",
              "    </tr>\n",
              "    <tr>\n",
              "      <th>50%</th>\n",
              "      <td>0.000000</td>\n",
              "      <td>0.000000</td>\n",
              "      <td>0.000000</td>\n",
              "      <td>1.000000</td>\n",
              "      <td>27.000000</td>\n",
              "      <td>0.000000</td>\n",
              "      <td>0.000000</td>\n",
              "      <td>0.000000</td>\n",
              "      <td>1.000000</td>\n",
              "      <td>1.000000</td>\n",
              "      <td>...</td>\n",
              "      <td>1.000000</td>\n",
              "      <td>0.000000</td>\n",
              "      <td>2.000000</td>\n",
              "      <td>0.000000</td>\n",
              "      <td>0.000000</td>\n",
              "      <td>0.000000</td>\n",
              "      <td>0.000000</td>\n",
              "      <td>8.000000</td>\n",
              "      <td>5.000000</td>\n",
              "      <td>7.000000</td>\n",
              "    </tr>\n",
              "    <tr>\n",
              "      <th>75%</th>\n",
              "      <td>0.000000</td>\n",
              "      <td>1.000000</td>\n",
              "      <td>1.000000</td>\n",
              "      <td>1.000000</td>\n",
              "      <td>31.000000</td>\n",
              "      <td>1.000000</td>\n",
              "      <td>0.000000</td>\n",
              "      <td>0.000000</td>\n",
              "      <td>1.000000</td>\n",
              "      <td>1.000000</td>\n",
              "      <td>...</td>\n",
              "      <td>1.000000</td>\n",
              "      <td>0.000000</td>\n",
              "      <td>3.000000</td>\n",
              "      <td>2.000000</td>\n",
              "      <td>3.000000</td>\n",
              "      <td>0.000000</td>\n",
              "      <td>1.000000</td>\n",
              "      <td>10.000000</td>\n",
              "      <td>6.000000</td>\n",
              "      <td>8.000000</td>\n",
              "    </tr>\n",
              "    <tr>\n",
              "      <th>max</th>\n",
              "      <td>2.000000</td>\n",
              "      <td>1.000000</td>\n",
              "      <td>1.000000</td>\n",
              "      <td>1.000000</td>\n",
              "      <td>98.000000</td>\n",
              "      <td>1.000000</td>\n",
              "      <td>1.000000</td>\n",
              "      <td>1.000000</td>\n",
              "      <td>1.000000</td>\n",
              "      <td>1.000000</td>\n",
              "      <td>...</td>\n",
              "      <td>1.000000</td>\n",
              "      <td>1.000000</td>\n",
              "      <td>5.000000</td>\n",
              "      <td>30.000000</td>\n",
              "      <td>30.000000</td>\n",
              "      <td>1.000000</td>\n",
              "      <td>1.000000</td>\n",
              "      <td>13.000000</td>\n",
              "      <td>6.000000</td>\n",
              "      <td>8.000000</td>\n",
              "    </tr>\n",
              "  </tbody>\n",
              "</table>\n",
              "<p>8 rows × 22 columns</p>\n",
              "</div>\n",
              "    <div class=\"colab-df-buttons\">\n",
              "\n",
              "  <div class=\"colab-df-container\">\n",
              "    <button class=\"colab-df-convert\" onclick=\"convertToInteractive('df-b3643741-e1d2-48d9-bdc6-580ce57e175f')\"\n",
              "            title=\"Convert this dataframe to an interactive table.\"\n",
              "            style=\"display:none;\">\n",
              "\n",
              "  <svg xmlns=\"http://www.w3.org/2000/svg\" height=\"24px\" viewBox=\"0 -960 960 960\">\n",
              "    <path d=\"M120-120v-720h720v720H120Zm60-500h600v-160H180v160Zm220 220h160v-160H400v160Zm0 220h160v-160H400v160ZM180-400h160v-160H180v160Zm440 0h160v-160H620v160ZM180-180h160v-160H180v160Zm440 0h160v-160H620v160Z\"/>\n",
              "  </svg>\n",
              "    </button>\n",
              "\n",
              "  <style>\n",
              "    .colab-df-container {\n",
              "      display:flex;\n",
              "      gap: 12px;\n",
              "    }\n",
              "\n",
              "    .colab-df-convert {\n",
              "      background-color: #E8F0FE;\n",
              "      border: none;\n",
              "      border-radius: 50%;\n",
              "      cursor: pointer;\n",
              "      display: none;\n",
              "      fill: #1967D2;\n",
              "      height: 32px;\n",
              "      padding: 0 0 0 0;\n",
              "      width: 32px;\n",
              "    }\n",
              "\n",
              "    .colab-df-convert:hover {\n",
              "      background-color: #E2EBFA;\n",
              "      box-shadow: 0px 1px 2px rgba(60, 64, 67, 0.3), 0px 1px 3px 1px rgba(60, 64, 67, 0.15);\n",
              "      fill: #174EA6;\n",
              "    }\n",
              "\n",
              "    .colab-df-buttons div {\n",
              "      margin-bottom: 4px;\n",
              "    }\n",
              "\n",
              "    [theme=dark] .colab-df-convert {\n",
              "      background-color: #3B4455;\n",
              "      fill: #D2E3FC;\n",
              "    }\n",
              "\n",
              "    [theme=dark] .colab-df-convert:hover {\n",
              "      background-color: #434B5C;\n",
              "      box-shadow: 0px 1px 3px 1px rgba(0, 0, 0, 0.15);\n",
              "      filter: drop-shadow(0px 1px 2px rgba(0, 0, 0, 0.3));\n",
              "      fill: #FFFFFF;\n",
              "    }\n",
              "  </style>\n",
              "\n",
              "    <script>\n",
              "      const buttonEl =\n",
              "        document.querySelector('#df-b3643741-e1d2-48d9-bdc6-580ce57e175f button.colab-df-convert');\n",
              "      buttonEl.style.display =\n",
              "        google.colab.kernel.accessAllowed ? 'block' : 'none';\n",
              "\n",
              "      async function convertToInteractive(key) {\n",
              "        const element = document.querySelector('#df-b3643741-e1d2-48d9-bdc6-580ce57e175f');\n",
              "        const dataTable =\n",
              "          await google.colab.kernel.invokeFunction('convertToInteractive',\n",
              "                                                    [key], {});\n",
              "        if (!dataTable) return;\n",
              "\n",
              "        const docLinkHtml = 'Like what you see? Visit the ' +\n",
              "          '<a target=\"_blank\" href=https://colab.research.google.com/notebooks/data_table.ipynb>data table notebook</a>'\n",
              "          + ' to learn more about interactive tables.';\n",
              "        element.innerHTML = '';\n",
              "        dataTable['output_type'] = 'display_data';\n",
              "        await google.colab.output.renderOutput(dataTable, element);\n",
              "        const docLink = document.createElement('div');\n",
              "        docLink.innerHTML = docLinkHtml;\n",
              "        element.appendChild(docLink);\n",
              "      }\n",
              "    </script>\n",
              "  </div>\n",
              "\n",
              "\n",
              "    <div id=\"df-50f9d8c3-c144-4e12-91cf-846d18047bb3\">\n",
              "      <button class=\"colab-df-quickchart\" onclick=\"quickchart('df-50f9d8c3-c144-4e12-91cf-846d18047bb3')\"\n",
              "                title=\"Suggest charts\"\n",
              "                style=\"display:none;\">\n",
              "\n",
              "<svg xmlns=\"http://www.w3.org/2000/svg\" height=\"24px\"viewBox=\"0 0 24 24\"\n",
              "     width=\"24px\">\n",
              "    <g>\n",
              "        <path d=\"M19 3H5c-1.1 0-2 .9-2 2v14c0 1.1.9 2 2 2h14c1.1 0 2-.9 2-2V5c0-1.1-.9-2-2-2zM9 17H7v-7h2v7zm4 0h-2V7h2v10zm4 0h-2v-4h2v4z\"/>\n",
              "    </g>\n",
              "</svg>\n",
              "      </button>\n",
              "\n",
              "<style>\n",
              "  .colab-df-quickchart {\n",
              "      --bg-color: #E8F0FE;\n",
              "      --fill-color: #1967D2;\n",
              "      --hover-bg-color: #E2EBFA;\n",
              "      --hover-fill-color: #174EA6;\n",
              "      --disabled-fill-color: #AAA;\n",
              "      --disabled-bg-color: #DDD;\n",
              "  }\n",
              "\n",
              "  [theme=dark] .colab-df-quickchart {\n",
              "      --bg-color: #3B4455;\n",
              "      --fill-color: #D2E3FC;\n",
              "      --hover-bg-color: #434B5C;\n",
              "      --hover-fill-color: #FFFFFF;\n",
              "      --disabled-bg-color: #3B4455;\n",
              "      --disabled-fill-color: #666;\n",
              "  }\n",
              "\n",
              "  .colab-df-quickchart {\n",
              "    background-color: var(--bg-color);\n",
              "    border: none;\n",
              "    border-radius: 50%;\n",
              "    cursor: pointer;\n",
              "    display: none;\n",
              "    fill: var(--fill-color);\n",
              "    height: 32px;\n",
              "    padding: 0;\n",
              "    width: 32px;\n",
              "  }\n",
              "\n",
              "  .colab-df-quickchart:hover {\n",
              "    background-color: var(--hover-bg-color);\n",
              "    box-shadow: 0 1px 2px rgba(60, 64, 67, 0.3), 0 1px 3px 1px rgba(60, 64, 67, 0.15);\n",
              "    fill: var(--button-hover-fill-color);\n",
              "  }\n",
              "\n",
              "  .colab-df-quickchart-complete:disabled,\n",
              "  .colab-df-quickchart-complete:disabled:hover {\n",
              "    background-color: var(--disabled-bg-color);\n",
              "    fill: var(--disabled-fill-color);\n",
              "    box-shadow: none;\n",
              "  }\n",
              "\n",
              "  .colab-df-spinner {\n",
              "    border: 2px solid var(--fill-color);\n",
              "    border-color: transparent;\n",
              "    border-bottom-color: var(--fill-color);\n",
              "    animation:\n",
              "      spin 1s steps(1) infinite;\n",
              "  }\n",
              "\n",
              "  @keyframes spin {\n",
              "    0% {\n",
              "      border-color: transparent;\n",
              "      border-bottom-color: var(--fill-color);\n",
              "      border-left-color: var(--fill-color);\n",
              "    }\n",
              "    20% {\n",
              "      border-color: transparent;\n",
              "      border-left-color: var(--fill-color);\n",
              "      border-top-color: var(--fill-color);\n",
              "    }\n",
              "    30% {\n",
              "      border-color: transparent;\n",
              "      border-left-color: var(--fill-color);\n",
              "      border-top-color: var(--fill-color);\n",
              "      border-right-color: var(--fill-color);\n",
              "    }\n",
              "    40% {\n",
              "      border-color: transparent;\n",
              "      border-right-color: var(--fill-color);\n",
              "      border-top-color: var(--fill-color);\n",
              "    }\n",
              "    60% {\n",
              "      border-color: transparent;\n",
              "      border-right-color: var(--fill-color);\n",
              "    }\n",
              "    80% {\n",
              "      border-color: transparent;\n",
              "      border-right-color: var(--fill-color);\n",
              "      border-bottom-color: var(--fill-color);\n",
              "    }\n",
              "    90% {\n",
              "      border-color: transparent;\n",
              "      border-bottom-color: var(--fill-color);\n",
              "    }\n",
              "  }\n",
              "</style>\n",
              "\n",
              "      <script>\n",
              "        async function quickchart(key) {\n",
              "          const quickchartButtonEl =\n",
              "            document.querySelector('#' + key + ' button');\n",
              "          quickchartButtonEl.disabled = true;  // To prevent multiple clicks.\n",
              "          quickchartButtonEl.classList.add('colab-df-spinner');\n",
              "          try {\n",
              "            const charts = await google.colab.kernel.invokeFunction(\n",
              "                'suggestCharts', [key], {});\n",
              "          } catch (error) {\n",
              "            console.error('Error during call to suggestCharts:', error);\n",
              "          }\n",
              "          quickchartButtonEl.classList.remove('colab-df-spinner');\n",
              "          quickchartButtonEl.classList.add('colab-df-quickchart-complete');\n",
              "        }\n",
              "        (() => {\n",
              "          let quickchartButtonEl =\n",
              "            document.querySelector('#df-50f9d8c3-c144-4e12-91cf-846d18047bb3 button');\n",
              "          quickchartButtonEl.style.display =\n",
              "            google.colab.kernel.accessAllowed ? 'block' : 'none';\n",
              "        })();\n",
              "      </script>\n",
              "    </div>\n",
              "\n",
              "    </div>\n",
              "  </div>\n"
            ],
            "application/vnd.google.colaboratory.intrinsic+json": {
              "type": "dataframe"
            }
          },
          "metadata": {},
          "execution_count": 132
        }
      ]
    },
    {
      "cell_type": "code",
      "source": [
        "df.describe(percentiles=[0.05,0.50,.95],include=['number'])"
      ],
      "metadata": {
        "colab": {
          "base_uri": "https://localhost:8080/",
          "height": 350
        },
        "id": "8ouowTszInAh",
        "outputId": "0e002043-57a8-44b3-fcab-c23a63b1dff5"
      },
      "execution_count": 133,
      "outputs": [
        {
          "output_type": "execute_result",
          "data": {
            "text/plain": [
              "        Diabetes_012         HighBP       HighChol      CholCheck  \\\n",
              "count  253680.000000  253680.000000  253680.000000  253680.000000   \n",
              "mean        0.296921       0.429001       0.424121       0.962670   \n",
              "std         0.698160       0.494934       0.494210       0.189571   \n",
              "min         0.000000       0.000000       0.000000       0.000000   \n",
              "5%          0.000000       0.000000       0.000000       1.000000   \n",
              "50%         0.000000       0.000000       0.000000       1.000000   \n",
              "95%         2.000000       1.000000       1.000000       1.000000   \n",
              "max         2.000000       1.000000       1.000000       1.000000   \n",
              "\n",
              "                 BMI         Smoker         Stroke  HeartDiseaseorAttack  \\\n",
              "count  253680.000000  253680.000000  253680.000000         253680.000000   \n",
              "mean       28.382364       0.443169       0.040571              0.094186   \n",
              "std         6.608694       0.496761       0.197294              0.292087   \n",
              "min        12.000000       0.000000       0.000000              0.000000   \n",
              "5%         20.000000       0.000000       0.000000              0.000000   \n",
              "50%        27.000000       0.000000       0.000000              0.000000   \n",
              "95%        40.000000       1.000000       0.000000              1.000000   \n",
              "max        98.000000       1.000000       1.000000              1.000000   \n",
              "\n",
              "        PhysActivity         Fruits  ...  AnyHealthcare    NoDocbcCost  \\\n",
              "count  253680.000000  253680.000000  ...  253680.000000  253680.000000   \n",
              "mean        0.756544       0.634256  ...       0.951053       0.084177   \n",
              "std         0.429169       0.481639  ...       0.215759       0.277654   \n",
              "min         0.000000       0.000000  ...       0.000000       0.000000   \n",
              "5%          0.000000       0.000000  ...       1.000000       0.000000   \n",
              "50%         1.000000       1.000000  ...       1.000000       0.000000   \n",
              "95%         1.000000       1.000000  ...       1.000000       1.000000   \n",
              "max         1.000000       1.000000  ...       1.000000       1.000000   \n",
              "\n",
              "             GenHlth       MentHlth       PhysHlth       DiffWalk  \\\n",
              "count  253680.000000  253680.000000  253680.000000  253680.000000   \n",
              "mean        2.511392       3.184772       4.242081       0.168224   \n",
              "std         1.068477       7.412847       8.717951       0.374066   \n",
              "min         1.000000       0.000000       0.000000       0.000000   \n",
              "5%          1.000000       0.000000       0.000000       0.000000   \n",
              "50%         2.000000       0.000000       0.000000       0.000000   \n",
              "95%         4.000000      26.000000      30.000000       1.000000   \n",
              "max         5.000000      30.000000      30.000000       1.000000   \n",
              "\n",
              "                 Sex            Age      Education         Income  \n",
              "count  253680.000000  253680.000000  253680.000000  253680.000000  \n",
              "mean        0.440342       8.032119       5.050434       6.053875  \n",
              "std         0.496429       3.054220       0.985774       2.071148  \n",
              "min         0.000000       1.000000       1.000000       1.000000  \n",
              "5%          0.000000       2.000000       3.000000       2.000000  \n",
              "50%         0.000000       8.000000       5.000000       7.000000  \n",
              "95%         1.000000      13.000000       6.000000       8.000000  \n",
              "max         1.000000      13.000000       6.000000       8.000000  \n",
              "\n",
              "[8 rows x 22 columns]"
            ],
            "text/html": [
              "\n",
              "  <div id=\"df-f8504843-477f-41e1-a662-7544a140d252\" class=\"colab-df-container\">\n",
              "    <div>\n",
              "<style scoped>\n",
              "    .dataframe tbody tr th:only-of-type {\n",
              "        vertical-align: middle;\n",
              "    }\n",
              "\n",
              "    .dataframe tbody tr th {\n",
              "        vertical-align: top;\n",
              "    }\n",
              "\n",
              "    .dataframe thead th {\n",
              "        text-align: right;\n",
              "    }\n",
              "</style>\n",
              "<table border=\"1\" class=\"dataframe\">\n",
              "  <thead>\n",
              "    <tr style=\"text-align: right;\">\n",
              "      <th></th>\n",
              "      <th>Diabetes_012</th>\n",
              "      <th>HighBP</th>\n",
              "      <th>HighChol</th>\n",
              "      <th>CholCheck</th>\n",
              "      <th>BMI</th>\n",
              "      <th>Smoker</th>\n",
              "      <th>Stroke</th>\n",
              "      <th>HeartDiseaseorAttack</th>\n",
              "      <th>PhysActivity</th>\n",
              "      <th>Fruits</th>\n",
              "      <th>...</th>\n",
              "      <th>AnyHealthcare</th>\n",
              "      <th>NoDocbcCost</th>\n",
              "      <th>GenHlth</th>\n",
              "      <th>MentHlth</th>\n",
              "      <th>PhysHlth</th>\n",
              "      <th>DiffWalk</th>\n",
              "      <th>Sex</th>\n",
              "      <th>Age</th>\n",
              "      <th>Education</th>\n",
              "      <th>Income</th>\n",
              "    </tr>\n",
              "  </thead>\n",
              "  <tbody>\n",
              "    <tr>\n",
              "      <th>count</th>\n",
              "      <td>253680.000000</td>\n",
              "      <td>253680.000000</td>\n",
              "      <td>253680.000000</td>\n",
              "      <td>253680.000000</td>\n",
              "      <td>253680.000000</td>\n",
              "      <td>253680.000000</td>\n",
              "      <td>253680.000000</td>\n",
              "      <td>253680.000000</td>\n",
              "      <td>253680.000000</td>\n",
              "      <td>253680.000000</td>\n",
              "      <td>...</td>\n",
              "      <td>253680.000000</td>\n",
              "      <td>253680.000000</td>\n",
              "      <td>253680.000000</td>\n",
              "      <td>253680.000000</td>\n",
              "      <td>253680.000000</td>\n",
              "      <td>253680.000000</td>\n",
              "      <td>253680.000000</td>\n",
              "      <td>253680.000000</td>\n",
              "      <td>253680.000000</td>\n",
              "      <td>253680.000000</td>\n",
              "    </tr>\n",
              "    <tr>\n",
              "      <th>mean</th>\n",
              "      <td>0.296921</td>\n",
              "      <td>0.429001</td>\n",
              "      <td>0.424121</td>\n",
              "      <td>0.962670</td>\n",
              "      <td>28.382364</td>\n",
              "      <td>0.443169</td>\n",
              "      <td>0.040571</td>\n",
              "      <td>0.094186</td>\n",
              "      <td>0.756544</td>\n",
              "      <td>0.634256</td>\n",
              "      <td>...</td>\n",
              "      <td>0.951053</td>\n",
              "      <td>0.084177</td>\n",
              "      <td>2.511392</td>\n",
              "      <td>3.184772</td>\n",
              "      <td>4.242081</td>\n",
              "      <td>0.168224</td>\n",
              "      <td>0.440342</td>\n",
              "      <td>8.032119</td>\n",
              "      <td>5.050434</td>\n",
              "      <td>6.053875</td>\n",
              "    </tr>\n",
              "    <tr>\n",
              "      <th>std</th>\n",
              "      <td>0.698160</td>\n",
              "      <td>0.494934</td>\n",
              "      <td>0.494210</td>\n",
              "      <td>0.189571</td>\n",
              "      <td>6.608694</td>\n",
              "      <td>0.496761</td>\n",
              "      <td>0.197294</td>\n",
              "      <td>0.292087</td>\n",
              "      <td>0.429169</td>\n",
              "      <td>0.481639</td>\n",
              "      <td>...</td>\n",
              "      <td>0.215759</td>\n",
              "      <td>0.277654</td>\n",
              "      <td>1.068477</td>\n",
              "      <td>7.412847</td>\n",
              "      <td>8.717951</td>\n",
              "      <td>0.374066</td>\n",
              "      <td>0.496429</td>\n",
              "      <td>3.054220</td>\n",
              "      <td>0.985774</td>\n",
              "      <td>2.071148</td>\n",
              "    </tr>\n",
              "    <tr>\n",
              "      <th>min</th>\n",
              "      <td>0.000000</td>\n",
              "      <td>0.000000</td>\n",
              "      <td>0.000000</td>\n",
              "      <td>0.000000</td>\n",
              "      <td>12.000000</td>\n",
              "      <td>0.000000</td>\n",
              "      <td>0.000000</td>\n",
              "      <td>0.000000</td>\n",
              "      <td>0.000000</td>\n",
              "      <td>0.000000</td>\n",
              "      <td>...</td>\n",
              "      <td>0.000000</td>\n",
              "      <td>0.000000</td>\n",
              "      <td>1.000000</td>\n",
              "      <td>0.000000</td>\n",
              "      <td>0.000000</td>\n",
              "      <td>0.000000</td>\n",
              "      <td>0.000000</td>\n",
              "      <td>1.000000</td>\n",
              "      <td>1.000000</td>\n",
              "      <td>1.000000</td>\n",
              "    </tr>\n",
              "    <tr>\n",
              "      <th>5%</th>\n",
              "      <td>0.000000</td>\n",
              "      <td>0.000000</td>\n",
              "      <td>0.000000</td>\n",
              "      <td>1.000000</td>\n",
              "      <td>20.000000</td>\n",
              "      <td>0.000000</td>\n",
              "      <td>0.000000</td>\n",
              "      <td>0.000000</td>\n",
              "      <td>0.000000</td>\n",
              "      <td>0.000000</td>\n",
              "      <td>...</td>\n",
              "      <td>1.000000</td>\n",
              "      <td>0.000000</td>\n",
              "      <td>1.000000</td>\n",
              "      <td>0.000000</td>\n",
              "      <td>0.000000</td>\n",
              "      <td>0.000000</td>\n",
              "      <td>0.000000</td>\n",
              "      <td>2.000000</td>\n",
              "      <td>3.000000</td>\n",
              "      <td>2.000000</td>\n",
              "    </tr>\n",
              "    <tr>\n",
              "      <th>50%</th>\n",
              "      <td>0.000000</td>\n",
              "      <td>0.000000</td>\n",
              "      <td>0.000000</td>\n",
              "      <td>1.000000</td>\n",
              "      <td>27.000000</td>\n",
              "      <td>0.000000</td>\n",
              "      <td>0.000000</td>\n",
              "      <td>0.000000</td>\n",
              "      <td>1.000000</td>\n",
              "      <td>1.000000</td>\n",
              "      <td>...</td>\n",
              "      <td>1.000000</td>\n",
              "      <td>0.000000</td>\n",
              "      <td>2.000000</td>\n",
              "      <td>0.000000</td>\n",
              "      <td>0.000000</td>\n",
              "      <td>0.000000</td>\n",
              "      <td>0.000000</td>\n",
              "      <td>8.000000</td>\n",
              "      <td>5.000000</td>\n",
              "      <td>7.000000</td>\n",
              "    </tr>\n",
              "    <tr>\n",
              "      <th>95%</th>\n",
              "      <td>2.000000</td>\n",
              "      <td>1.000000</td>\n",
              "      <td>1.000000</td>\n",
              "      <td>1.000000</td>\n",
              "      <td>40.000000</td>\n",
              "      <td>1.000000</td>\n",
              "      <td>0.000000</td>\n",
              "      <td>1.000000</td>\n",
              "      <td>1.000000</td>\n",
              "      <td>1.000000</td>\n",
              "      <td>...</td>\n",
              "      <td>1.000000</td>\n",
              "      <td>1.000000</td>\n",
              "      <td>4.000000</td>\n",
              "      <td>26.000000</td>\n",
              "      <td>30.000000</td>\n",
              "      <td>1.000000</td>\n",
              "      <td>1.000000</td>\n",
              "      <td>13.000000</td>\n",
              "      <td>6.000000</td>\n",
              "      <td>8.000000</td>\n",
              "    </tr>\n",
              "    <tr>\n",
              "      <th>max</th>\n",
              "      <td>2.000000</td>\n",
              "      <td>1.000000</td>\n",
              "      <td>1.000000</td>\n",
              "      <td>1.000000</td>\n",
              "      <td>98.000000</td>\n",
              "      <td>1.000000</td>\n",
              "      <td>1.000000</td>\n",
              "      <td>1.000000</td>\n",
              "      <td>1.000000</td>\n",
              "      <td>1.000000</td>\n",
              "      <td>...</td>\n",
              "      <td>1.000000</td>\n",
              "      <td>1.000000</td>\n",
              "      <td>5.000000</td>\n",
              "      <td>30.000000</td>\n",
              "      <td>30.000000</td>\n",
              "      <td>1.000000</td>\n",
              "      <td>1.000000</td>\n",
              "      <td>13.000000</td>\n",
              "      <td>6.000000</td>\n",
              "      <td>8.000000</td>\n",
              "    </tr>\n",
              "  </tbody>\n",
              "</table>\n",
              "<p>8 rows × 22 columns</p>\n",
              "</div>\n",
              "    <div class=\"colab-df-buttons\">\n",
              "\n",
              "  <div class=\"colab-df-container\">\n",
              "    <button class=\"colab-df-convert\" onclick=\"convertToInteractive('df-f8504843-477f-41e1-a662-7544a140d252')\"\n",
              "            title=\"Convert this dataframe to an interactive table.\"\n",
              "            style=\"display:none;\">\n",
              "\n",
              "  <svg xmlns=\"http://www.w3.org/2000/svg\" height=\"24px\" viewBox=\"0 -960 960 960\">\n",
              "    <path d=\"M120-120v-720h720v720H120Zm60-500h600v-160H180v160Zm220 220h160v-160H400v160Zm0 220h160v-160H400v160ZM180-400h160v-160H180v160Zm440 0h160v-160H620v160ZM180-180h160v-160H180v160Zm440 0h160v-160H620v160Z\"/>\n",
              "  </svg>\n",
              "    </button>\n",
              "\n",
              "  <style>\n",
              "    .colab-df-container {\n",
              "      display:flex;\n",
              "      gap: 12px;\n",
              "    }\n",
              "\n",
              "    .colab-df-convert {\n",
              "      background-color: #E8F0FE;\n",
              "      border: none;\n",
              "      border-radius: 50%;\n",
              "      cursor: pointer;\n",
              "      display: none;\n",
              "      fill: #1967D2;\n",
              "      height: 32px;\n",
              "      padding: 0 0 0 0;\n",
              "      width: 32px;\n",
              "    }\n",
              "\n",
              "    .colab-df-convert:hover {\n",
              "      background-color: #E2EBFA;\n",
              "      box-shadow: 0px 1px 2px rgba(60, 64, 67, 0.3), 0px 1px 3px 1px rgba(60, 64, 67, 0.15);\n",
              "      fill: #174EA6;\n",
              "    }\n",
              "\n",
              "    .colab-df-buttons div {\n",
              "      margin-bottom: 4px;\n",
              "    }\n",
              "\n",
              "    [theme=dark] .colab-df-convert {\n",
              "      background-color: #3B4455;\n",
              "      fill: #D2E3FC;\n",
              "    }\n",
              "\n",
              "    [theme=dark] .colab-df-convert:hover {\n",
              "      background-color: #434B5C;\n",
              "      box-shadow: 0px 1px 3px 1px rgba(0, 0, 0, 0.15);\n",
              "      filter: drop-shadow(0px 1px 2px rgba(0, 0, 0, 0.3));\n",
              "      fill: #FFFFFF;\n",
              "    }\n",
              "  </style>\n",
              "\n",
              "    <script>\n",
              "      const buttonEl =\n",
              "        document.querySelector('#df-f8504843-477f-41e1-a662-7544a140d252 button.colab-df-convert');\n",
              "      buttonEl.style.display =\n",
              "        google.colab.kernel.accessAllowed ? 'block' : 'none';\n",
              "\n",
              "      async function convertToInteractive(key) {\n",
              "        const element = document.querySelector('#df-f8504843-477f-41e1-a662-7544a140d252');\n",
              "        const dataTable =\n",
              "          await google.colab.kernel.invokeFunction('convertToInteractive',\n",
              "                                                    [key], {});\n",
              "        if (!dataTable) return;\n",
              "\n",
              "        const docLinkHtml = 'Like what you see? Visit the ' +\n",
              "          '<a target=\"_blank\" href=https://colab.research.google.com/notebooks/data_table.ipynb>data table notebook</a>'\n",
              "          + ' to learn more about interactive tables.';\n",
              "        element.innerHTML = '';\n",
              "        dataTable['output_type'] = 'display_data';\n",
              "        await google.colab.output.renderOutput(dataTable, element);\n",
              "        const docLink = document.createElement('div');\n",
              "        docLink.innerHTML = docLinkHtml;\n",
              "        element.appendChild(docLink);\n",
              "      }\n",
              "    </script>\n",
              "  </div>\n",
              "\n",
              "\n",
              "    <div id=\"df-16c520b7-c9b2-4053-af44-a9d9e6a33ae7\">\n",
              "      <button class=\"colab-df-quickchart\" onclick=\"quickchart('df-16c520b7-c9b2-4053-af44-a9d9e6a33ae7')\"\n",
              "                title=\"Suggest charts\"\n",
              "                style=\"display:none;\">\n",
              "\n",
              "<svg xmlns=\"http://www.w3.org/2000/svg\" height=\"24px\"viewBox=\"0 0 24 24\"\n",
              "     width=\"24px\">\n",
              "    <g>\n",
              "        <path d=\"M19 3H5c-1.1 0-2 .9-2 2v14c0 1.1.9 2 2 2h14c1.1 0 2-.9 2-2V5c0-1.1-.9-2-2-2zM9 17H7v-7h2v7zm4 0h-2V7h2v10zm4 0h-2v-4h2v4z\"/>\n",
              "    </g>\n",
              "</svg>\n",
              "      </button>\n",
              "\n",
              "<style>\n",
              "  .colab-df-quickchart {\n",
              "      --bg-color: #E8F0FE;\n",
              "      --fill-color: #1967D2;\n",
              "      --hover-bg-color: #E2EBFA;\n",
              "      --hover-fill-color: #174EA6;\n",
              "      --disabled-fill-color: #AAA;\n",
              "      --disabled-bg-color: #DDD;\n",
              "  }\n",
              "\n",
              "  [theme=dark] .colab-df-quickchart {\n",
              "      --bg-color: #3B4455;\n",
              "      --fill-color: #D2E3FC;\n",
              "      --hover-bg-color: #434B5C;\n",
              "      --hover-fill-color: #FFFFFF;\n",
              "      --disabled-bg-color: #3B4455;\n",
              "      --disabled-fill-color: #666;\n",
              "  }\n",
              "\n",
              "  .colab-df-quickchart {\n",
              "    background-color: var(--bg-color);\n",
              "    border: none;\n",
              "    border-radius: 50%;\n",
              "    cursor: pointer;\n",
              "    display: none;\n",
              "    fill: var(--fill-color);\n",
              "    height: 32px;\n",
              "    padding: 0;\n",
              "    width: 32px;\n",
              "  }\n",
              "\n",
              "  .colab-df-quickchart:hover {\n",
              "    background-color: var(--hover-bg-color);\n",
              "    box-shadow: 0 1px 2px rgba(60, 64, 67, 0.3), 0 1px 3px 1px rgba(60, 64, 67, 0.15);\n",
              "    fill: var(--button-hover-fill-color);\n",
              "  }\n",
              "\n",
              "  .colab-df-quickchart-complete:disabled,\n",
              "  .colab-df-quickchart-complete:disabled:hover {\n",
              "    background-color: var(--disabled-bg-color);\n",
              "    fill: var(--disabled-fill-color);\n",
              "    box-shadow: none;\n",
              "  }\n",
              "\n",
              "  .colab-df-spinner {\n",
              "    border: 2px solid var(--fill-color);\n",
              "    border-color: transparent;\n",
              "    border-bottom-color: var(--fill-color);\n",
              "    animation:\n",
              "      spin 1s steps(1) infinite;\n",
              "  }\n",
              "\n",
              "  @keyframes spin {\n",
              "    0% {\n",
              "      border-color: transparent;\n",
              "      border-bottom-color: var(--fill-color);\n",
              "      border-left-color: var(--fill-color);\n",
              "    }\n",
              "    20% {\n",
              "      border-color: transparent;\n",
              "      border-left-color: var(--fill-color);\n",
              "      border-top-color: var(--fill-color);\n",
              "    }\n",
              "    30% {\n",
              "      border-color: transparent;\n",
              "      border-left-color: var(--fill-color);\n",
              "      border-top-color: var(--fill-color);\n",
              "      border-right-color: var(--fill-color);\n",
              "    }\n",
              "    40% {\n",
              "      border-color: transparent;\n",
              "      border-right-color: var(--fill-color);\n",
              "      border-top-color: var(--fill-color);\n",
              "    }\n",
              "    60% {\n",
              "      border-color: transparent;\n",
              "      border-right-color: var(--fill-color);\n",
              "    }\n",
              "    80% {\n",
              "      border-color: transparent;\n",
              "      border-right-color: var(--fill-color);\n",
              "      border-bottom-color: var(--fill-color);\n",
              "    }\n",
              "    90% {\n",
              "      border-color: transparent;\n",
              "      border-bottom-color: var(--fill-color);\n",
              "    }\n",
              "  }\n",
              "</style>\n",
              "\n",
              "      <script>\n",
              "        async function quickchart(key) {\n",
              "          const quickchartButtonEl =\n",
              "            document.querySelector('#' + key + ' button');\n",
              "          quickchartButtonEl.disabled = true;  // To prevent multiple clicks.\n",
              "          quickchartButtonEl.classList.add('colab-df-spinner');\n",
              "          try {\n",
              "            const charts = await google.colab.kernel.invokeFunction(\n",
              "                'suggestCharts', [key], {});\n",
              "          } catch (error) {\n",
              "            console.error('Error during call to suggestCharts:', error);\n",
              "          }\n",
              "          quickchartButtonEl.classList.remove('colab-df-spinner');\n",
              "          quickchartButtonEl.classList.add('colab-df-quickchart-complete');\n",
              "        }\n",
              "        (() => {\n",
              "          let quickchartButtonEl =\n",
              "            document.querySelector('#df-16c520b7-c9b2-4053-af44-a9d9e6a33ae7 button');\n",
              "          quickchartButtonEl.style.display =\n",
              "            google.colab.kernel.accessAllowed ? 'block' : 'none';\n",
              "        })();\n",
              "      </script>\n",
              "    </div>\n",
              "\n",
              "    </div>\n",
              "  </div>\n"
            ],
            "application/vnd.google.colaboratory.intrinsic+json": {
              "type": "dataframe"
            }
          },
          "metadata": {},
          "execution_count": 133
        }
      ]
    },
    {
      "cell_type": "markdown",
      "source": [
        "## Tugas 3: Mengecek Shape, Size, dan Mengambil Sampel"
      ],
      "metadata": {
        "id": "lUaykfqfa-1z"
      }
    },
    {
      "cell_type": "markdown",
      "source": [
        "**Instruksi:**\n",
        "1. Gunakan atribut `df.shape` untuk menampilkan jumlah baris dan kolom.\n",
        "2. Gunakan atribut `df.size` untuk menampilkan jumlah total elemen (baris × kolom).\n",
        "3. Ambil 5 baris acak dari dataset menggunakan `df.sample(5)`.\n",
        "4. Ambil 3 baris acak dari dataset, tetapi gunakan parameter `random_state=42` agar hasilnya konsisten.\n",
        "\n",
        "**Expected Output (contoh ringkas):**\n",
        "- Shape: `(253680, 22)`\n",
        "- Size: `5580960`\n",
        "- Sample 5 rows: (5 baris acak)\n",
        "- Sample 3 rows dengan seed: (3 baris acak, selalu sama tiap dijalankan)"
      ],
      "metadata": {
        "id": "jv4qO95hcf_C"
      }
    },
    {
      "cell_type": "code",
      "source": [
        "# Write your code here\n",
        "print(df.shape)\n",
        "print(df.size)\n",
        "df.sample(5)"
      ],
      "metadata": {
        "id": "S-sjSwxicin7",
        "colab": {
          "base_uri": "https://localhost:8080/",
          "height": 290
        },
        "outputId": "789dc3b8-6789-4c06-cb15-12e3cf345ca3"
      },
      "execution_count": 134,
      "outputs": [
        {
          "output_type": "stream",
          "name": "stdout",
          "text": [
            "(253680, 22)\n",
            "5580960\n"
          ]
        },
        {
          "output_type": "execute_result",
          "data": {
            "text/plain": [
              "        Diabetes_012  HighBP  HighChol  CholCheck   BMI  Smoker  Stroke  \\\n",
              "27100            2.0     1.0       0.0        1.0  35.0     1.0     0.0   \n",
              "17664            2.0     0.0       0.0        1.0  26.0     1.0     0.0   \n",
              "106790           0.0     0.0       0.0        1.0  32.0     0.0     0.0   \n",
              "107539           0.0     1.0       0.0        1.0  28.0     1.0     0.0   \n",
              "158451           0.0     0.0       0.0        1.0  24.0     0.0     0.0   \n",
              "\n",
              "        HeartDiseaseorAttack  PhysActivity  Fruits  ...  AnyHealthcare  \\\n",
              "27100                    0.0           1.0     1.0  ...            1.0   \n",
              "17664                    0.0           1.0     1.0  ...            1.0   \n",
              "106790                   0.0           1.0     1.0  ...            1.0   \n",
              "107539                   0.0           0.0     0.0  ...            1.0   \n",
              "158451                   0.0           0.0     1.0  ...            1.0   \n",
              "\n",
              "        NoDocbcCost  GenHlth  MentHlth  PhysHlth  DiffWalk  Sex   Age  \\\n",
              "27100           0.0      3.0       3.0       0.0       0.0  0.0   7.0   \n",
              "17664           0.0      3.0       0.0       0.0       0.0  1.0   9.0   \n",
              "106790          1.0      3.0       5.0       0.0       0.0  0.0   4.0   \n",
              "107539          0.0      3.0       0.0       2.0       1.0  0.0  10.0   \n",
              "158451          0.0      4.0      15.0      30.0       0.0  1.0  12.0   \n",
              "\n",
              "        Education  Income  \n",
              "27100         4.0     7.0  \n",
              "17664         3.0     3.0  \n",
              "106790        5.0     8.0  \n",
              "107539        5.0     6.0  \n",
              "158451        5.0     6.0  \n",
              "\n",
              "[5 rows x 22 columns]"
            ],
            "text/html": [
              "\n",
              "  <div id=\"df-41c89531-0043-4125-b0de-e5f7ce80428a\" class=\"colab-df-container\">\n",
              "    <div>\n",
              "<style scoped>\n",
              "    .dataframe tbody tr th:only-of-type {\n",
              "        vertical-align: middle;\n",
              "    }\n",
              "\n",
              "    .dataframe tbody tr th {\n",
              "        vertical-align: top;\n",
              "    }\n",
              "\n",
              "    .dataframe thead th {\n",
              "        text-align: right;\n",
              "    }\n",
              "</style>\n",
              "<table border=\"1\" class=\"dataframe\">\n",
              "  <thead>\n",
              "    <tr style=\"text-align: right;\">\n",
              "      <th></th>\n",
              "      <th>Diabetes_012</th>\n",
              "      <th>HighBP</th>\n",
              "      <th>HighChol</th>\n",
              "      <th>CholCheck</th>\n",
              "      <th>BMI</th>\n",
              "      <th>Smoker</th>\n",
              "      <th>Stroke</th>\n",
              "      <th>HeartDiseaseorAttack</th>\n",
              "      <th>PhysActivity</th>\n",
              "      <th>Fruits</th>\n",
              "      <th>...</th>\n",
              "      <th>AnyHealthcare</th>\n",
              "      <th>NoDocbcCost</th>\n",
              "      <th>GenHlth</th>\n",
              "      <th>MentHlth</th>\n",
              "      <th>PhysHlth</th>\n",
              "      <th>DiffWalk</th>\n",
              "      <th>Sex</th>\n",
              "      <th>Age</th>\n",
              "      <th>Education</th>\n",
              "      <th>Income</th>\n",
              "    </tr>\n",
              "  </thead>\n",
              "  <tbody>\n",
              "    <tr>\n",
              "      <th>27100</th>\n",
              "      <td>2.0</td>\n",
              "      <td>1.0</td>\n",
              "      <td>0.0</td>\n",
              "      <td>1.0</td>\n",
              "      <td>35.0</td>\n",
              "      <td>1.0</td>\n",
              "      <td>0.0</td>\n",
              "      <td>0.0</td>\n",
              "      <td>1.0</td>\n",
              "      <td>1.0</td>\n",
              "      <td>...</td>\n",
              "      <td>1.0</td>\n",
              "      <td>0.0</td>\n",
              "      <td>3.0</td>\n",
              "      <td>3.0</td>\n",
              "      <td>0.0</td>\n",
              "      <td>0.0</td>\n",
              "      <td>0.0</td>\n",
              "      <td>7.0</td>\n",
              "      <td>4.0</td>\n",
              "      <td>7.0</td>\n",
              "    </tr>\n",
              "    <tr>\n",
              "      <th>17664</th>\n",
              "      <td>2.0</td>\n",
              "      <td>0.0</td>\n",
              "      <td>0.0</td>\n",
              "      <td>1.0</td>\n",
              "      <td>26.0</td>\n",
              "      <td>1.0</td>\n",
              "      <td>0.0</td>\n",
              "      <td>0.0</td>\n",
              "      <td>1.0</td>\n",
              "      <td>1.0</td>\n",
              "      <td>...</td>\n",
              "      <td>1.0</td>\n",
              "      <td>0.0</td>\n",
              "      <td>3.0</td>\n",
              "      <td>0.0</td>\n",
              "      <td>0.0</td>\n",
              "      <td>0.0</td>\n",
              "      <td>1.0</td>\n",
              "      <td>9.0</td>\n",
              "      <td>3.0</td>\n",
              "      <td>3.0</td>\n",
              "    </tr>\n",
              "    <tr>\n",
              "      <th>106790</th>\n",
              "      <td>0.0</td>\n",
              "      <td>0.0</td>\n",
              "      <td>0.0</td>\n",
              "      <td>1.0</td>\n",
              "      <td>32.0</td>\n",
              "      <td>0.0</td>\n",
              "      <td>0.0</td>\n",
              "      <td>0.0</td>\n",
              "      <td>1.0</td>\n",
              "      <td>1.0</td>\n",
              "      <td>...</td>\n",
              "      <td>1.0</td>\n",
              "      <td>1.0</td>\n",
              "      <td>3.0</td>\n",
              "      <td>5.0</td>\n",
              "      <td>0.0</td>\n",
              "      <td>0.0</td>\n",
              "      <td>0.0</td>\n",
              "      <td>4.0</td>\n",
              "      <td>5.0</td>\n",
              "      <td>8.0</td>\n",
              "    </tr>\n",
              "    <tr>\n",
              "      <th>107539</th>\n",
              "      <td>0.0</td>\n",
              "      <td>1.0</td>\n",
              "      <td>0.0</td>\n",
              "      <td>1.0</td>\n",
              "      <td>28.0</td>\n",
              "      <td>1.0</td>\n",
              "      <td>0.0</td>\n",
              "      <td>0.0</td>\n",
              "      <td>0.0</td>\n",
              "      <td>0.0</td>\n",
              "      <td>...</td>\n",
              "      <td>1.0</td>\n",
              "      <td>0.0</td>\n",
              "      <td>3.0</td>\n",
              "      <td>0.0</td>\n",
              "      <td>2.0</td>\n",
              "      <td>1.0</td>\n",
              "      <td>0.0</td>\n",
              "      <td>10.0</td>\n",
              "      <td>5.0</td>\n",
              "      <td>6.0</td>\n",
              "    </tr>\n",
              "    <tr>\n",
              "      <th>158451</th>\n",
              "      <td>0.0</td>\n",
              "      <td>0.0</td>\n",
              "      <td>0.0</td>\n",
              "      <td>1.0</td>\n",
              "      <td>24.0</td>\n",
              "      <td>0.0</td>\n",
              "      <td>0.0</td>\n",
              "      <td>0.0</td>\n",
              "      <td>0.0</td>\n",
              "      <td>1.0</td>\n",
              "      <td>...</td>\n",
              "      <td>1.0</td>\n",
              "      <td>0.0</td>\n",
              "      <td>4.0</td>\n",
              "      <td>15.0</td>\n",
              "      <td>30.0</td>\n",
              "      <td>0.0</td>\n",
              "      <td>1.0</td>\n",
              "      <td>12.0</td>\n",
              "      <td>5.0</td>\n",
              "      <td>6.0</td>\n",
              "    </tr>\n",
              "  </tbody>\n",
              "</table>\n",
              "<p>5 rows × 22 columns</p>\n",
              "</div>\n",
              "    <div class=\"colab-df-buttons\">\n",
              "\n",
              "  <div class=\"colab-df-container\">\n",
              "    <button class=\"colab-df-convert\" onclick=\"convertToInteractive('df-41c89531-0043-4125-b0de-e5f7ce80428a')\"\n",
              "            title=\"Convert this dataframe to an interactive table.\"\n",
              "            style=\"display:none;\">\n",
              "\n",
              "  <svg xmlns=\"http://www.w3.org/2000/svg\" height=\"24px\" viewBox=\"0 -960 960 960\">\n",
              "    <path d=\"M120-120v-720h720v720H120Zm60-500h600v-160H180v160Zm220 220h160v-160H400v160Zm0 220h160v-160H400v160ZM180-400h160v-160H180v160Zm440 0h160v-160H620v160ZM180-180h160v-160H180v160Zm440 0h160v-160H620v160Z\"/>\n",
              "  </svg>\n",
              "    </button>\n",
              "\n",
              "  <style>\n",
              "    .colab-df-container {\n",
              "      display:flex;\n",
              "      gap: 12px;\n",
              "    }\n",
              "\n",
              "    .colab-df-convert {\n",
              "      background-color: #E8F0FE;\n",
              "      border: none;\n",
              "      border-radius: 50%;\n",
              "      cursor: pointer;\n",
              "      display: none;\n",
              "      fill: #1967D2;\n",
              "      height: 32px;\n",
              "      padding: 0 0 0 0;\n",
              "      width: 32px;\n",
              "    }\n",
              "\n",
              "    .colab-df-convert:hover {\n",
              "      background-color: #E2EBFA;\n",
              "      box-shadow: 0px 1px 2px rgba(60, 64, 67, 0.3), 0px 1px 3px 1px rgba(60, 64, 67, 0.15);\n",
              "      fill: #174EA6;\n",
              "    }\n",
              "\n",
              "    .colab-df-buttons div {\n",
              "      margin-bottom: 4px;\n",
              "    }\n",
              "\n",
              "    [theme=dark] .colab-df-convert {\n",
              "      background-color: #3B4455;\n",
              "      fill: #D2E3FC;\n",
              "    }\n",
              "\n",
              "    [theme=dark] .colab-df-convert:hover {\n",
              "      background-color: #434B5C;\n",
              "      box-shadow: 0px 1px 3px 1px rgba(0, 0, 0, 0.15);\n",
              "      filter: drop-shadow(0px 1px 2px rgba(0, 0, 0, 0.3));\n",
              "      fill: #FFFFFF;\n",
              "    }\n",
              "  </style>\n",
              "\n",
              "    <script>\n",
              "      const buttonEl =\n",
              "        document.querySelector('#df-41c89531-0043-4125-b0de-e5f7ce80428a button.colab-df-convert');\n",
              "      buttonEl.style.display =\n",
              "        google.colab.kernel.accessAllowed ? 'block' : 'none';\n",
              "\n",
              "      async function convertToInteractive(key) {\n",
              "        const element = document.querySelector('#df-41c89531-0043-4125-b0de-e5f7ce80428a');\n",
              "        const dataTable =\n",
              "          await google.colab.kernel.invokeFunction('convertToInteractive',\n",
              "                                                    [key], {});\n",
              "        if (!dataTable) return;\n",
              "\n",
              "        const docLinkHtml = 'Like what you see? Visit the ' +\n",
              "          '<a target=\"_blank\" href=https://colab.research.google.com/notebooks/data_table.ipynb>data table notebook</a>'\n",
              "          + ' to learn more about interactive tables.';\n",
              "        element.innerHTML = '';\n",
              "        dataTable['output_type'] = 'display_data';\n",
              "        await google.colab.output.renderOutput(dataTable, element);\n",
              "        const docLink = document.createElement('div');\n",
              "        docLink.innerHTML = docLinkHtml;\n",
              "        element.appendChild(docLink);\n",
              "      }\n",
              "    </script>\n",
              "  </div>\n",
              "\n",
              "\n",
              "    <div id=\"df-f7e1ed8f-9d22-4eca-906c-e1c8833c1fe0\">\n",
              "      <button class=\"colab-df-quickchart\" onclick=\"quickchart('df-f7e1ed8f-9d22-4eca-906c-e1c8833c1fe0')\"\n",
              "                title=\"Suggest charts\"\n",
              "                style=\"display:none;\">\n",
              "\n",
              "<svg xmlns=\"http://www.w3.org/2000/svg\" height=\"24px\"viewBox=\"0 0 24 24\"\n",
              "     width=\"24px\">\n",
              "    <g>\n",
              "        <path d=\"M19 3H5c-1.1 0-2 .9-2 2v14c0 1.1.9 2 2 2h14c1.1 0 2-.9 2-2V5c0-1.1-.9-2-2-2zM9 17H7v-7h2v7zm4 0h-2V7h2v10zm4 0h-2v-4h2v4z\"/>\n",
              "    </g>\n",
              "</svg>\n",
              "      </button>\n",
              "\n",
              "<style>\n",
              "  .colab-df-quickchart {\n",
              "      --bg-color: #E8F0FE;\n",
              "      --fill-color: #1967D2;\n",
              "      --hover-bg-color: #E2EBFA;\n",
              "      --hover-fill-color: #174EA6;\n",
              "      --disabled-fill-color: #AAA;\n",
              "      --disabled-bg-color: #DDD;\n",
              "  }\n",
              "\n",
              "  [theme=dark] .colab-df-quickchart {\n",
              "      --bg-color: #3B4455;\n",
              "      --fill-color: #D2E3FC;\n",
              "      --hover-bg-color: #434B5C;\n",
              "      --hover-fill-color: #FFFFFF;\n",
              "      --disabled-bg-color: #3B4455;\n",
              "      --disabled-fill-color: #666;\n",
              "  }\n",
              "\n",
              "  .colab-df-quickchart {\n",
              "    background-color: var(--bg-color);\n",
              "    border: none;\n",
              "    border-radius: 50%;\n",
              "    cursor: pointer;\n",
              "    display: none;\n",
              "    fill: var(--fill-color);\n",
              "    height: 32px;\n",
              "    padding: 0;\n",
              "    width: 32px;\n",
              "  }\n",
              "\n",
              "  .colab-df-quickchart:hover {\n",
              "    background-color: var(--hover-bg-color);\n",
              "    box-shadow: 0 1px 2px rgba(60, 64, 67, 0.3), 0 1px 3px 1px rgba(60, 64, 67, 0.15);\n",
              "    fill: var(--button-hover-fill-color);\n",
              "  }\n",
              "\n",
              "  .colab-df-quickchart-complete:disabled,\n",
              "  .colab-df-quickchart-complete:disabled:hover {\n",
              "    background-color: var(--disabled-bg-color);\n",
              "    fill: var(--disabled-fill-color);\n",
              "    box-shadow: none;\n",
              "  }\n",
              "\n",
              "  .colab-df-spinner {\n",
              "    border: 2px solid var(--fill-color);\n",
              "    border-color: transparent;\n",
              "    border-bottom-color: var(--fill-color);\n",
              "    animation:\n",
              "      spin 1s steps(1) infinite;\n",
              "  }\n",
              "\n",
              "  @keyframes spin {\n",
              "    0% {\n",
              "      border-color: transparent;\n",
              "      border-bottom-color: var(--fill-color);\n",
              "      border-left-color: var(--fill-color);\n",
              "    }\n",
              "    20% {\n",
              "      border-color: transparent;\n",
              "      border-left-color: var(--fill-color);\n",
              "      border-top-color: var(--fill-color);\n",
              "    }\n",
              "    30% {\n",
              "      border-color: transparent;\n",
              "      border-left-color: var(--fill-color);\n",
              "      border-top-color: var(--fill-color);\n",
              "      border-right-color: var(--fill-color);\n",
              "    }\n",
              "    40% {\n",
              "      border-color: transparent;\n",
              "      border-right-color: var(--fill-color);\n",
              "      border-top-color: var(--fill-color);\n",
              "    }\n",
              "    60% {\n",
              "      border-color: transparent;\n",
              "      border-right-color: var(--fill-color);\n",
              "    }\n",
              "    80% {\n",
              "      border-color: transparent;\n",
              "      border-right-color: var(--fill-color);\n",
              "      border-bottom-color: var(--fill-color);\n",
              "    }\n",
              "    90% {\n",
              "      border-color: transparent;\n",
              "      border-bottom-color: var(--fill-color);\n",
              "    }\n",
              "  }\n",
              "</style>\n",
              "\n",
              "      <script>\n",
              "        async function quickchart(key) {\n",
              "          const quickchartButtonEl =\n",
              "            document.querySelector('#' + key + ' button');\n",
              "          quickchartButtonEl.disabled = true;  // To prevent multiple clicks.\n",
              "          quickchartButtonEl.classList.add('colab-df-spinner');\n",
              "          try {\n",
              "            const charts = await google.colab.kernel.invokeFunction(\n",
              "                'suggestCharts', [key], {});\n",
              "          } catch (error) {\n",
              "            console.error('Error during call to suggestCharts:', error);\n",
              "          }\n",
              "          quickchartButtonEl.classList.remove('colab-df-spinner');\n",
              "          quickchartButtonEl.classList.add('colab-df-quickchart-complete');\n",
              "        }\n",
              "        (() => {\n",
              "          let quickchartButtonEl =\n",
              "            document.querySelector('#df-f7e1ed8f-9d22-4eca-906c-e1c8833c1fe0 button');\n",
              "          quickchartButtonEl.style.display =\n",
              "            google.colab.kernel.accessAllowed ? 'block' : 'none';\n",
              "        })();\n",
              "      </script>\n",
              "    </div>\n",
              "\n",
              "    </div>\n",
              "  </div>\n"
            ],
            "application/vnd.google.colaboratory.intrinsic+json": {
              "type": "dataframe"
            }
          },
          "metadata": {},
          "execution_count": 134
        }
      ]
    },
    {
      "cell_type": "code",
      "source": [
        "df.sample(n=3, random_state=42)"
      ],
      "metadata": {
        "colab": {
          "base_uri": "https://localhost:8080/",
          "height": 193
        },
        "id": "ZNctDs3YKRtl",
        "outputId": "fd26e33d-3c68-4165-aa22-a229ed7faab4"
      },
      "execution_count": 135,
      "outputs": [
        {
          "output_type": "execute_result",
          "data": {
            "text/plain": [
              "        Diabetes_012  HighBP  HighChol  CholCheck   BMI  Smoker  Stroke  \\\n",
              "219620           0.0     0.0       0.0        1.0  21.0     0.0     0.0   \n",
              "132821           0.0     1.0       1.0        1.0  28.0     0.0     0.0   \n",
              "151862           0.0     0.0       0.0        1.0  24.0     0.0     0.0   \n",
              "\n",
              "        HeartDiseaseorAttack  PhysActivity  Fruits  ...  AnyHealthcare  \\\n",
              "219620                   0.0           0.0     1.0  ...            1.0   \n",
              "132821                   0.0           1.0     1.0  ...            1.0   \n",
              "151862                   0.0           1.0     1.0  ...            1.0   \n",
              "\n",
              "        NoDocbcCost  GenHlth  MentHlth  PhysHlth  DiffWalk  Sex   Age  \\\n",
              "219620          0.0      3.0       3.0       7.0       0.0  0.0   7.0   \n",
              "132821          0.0      3.0       0.0       0.0       0.0  0.0  13.0   \n",
              "151862          0.0      1.0       0.0       0.0       0.0  1.0   1.0   \n",
              "\n",
              "        Education  Income  \n",
              "219620        4.0     2.0  \n",
              "132821        6.0     6.0  \n",
              "151862        4.0     7.0  \n",
              "\n",
              "[3 rows x 22 columns]"
            ],
            "text/html": [
              "\n",
              "  <div id=\"df-9f768f88-4145-442b-b074-5b67647c18b0\" class=\"colab-df-container\">\n",
              "    <div>\n",
              "<style scoped>\n",
              "    .dataframe tbody tr th:only-of-type {\n",
              "        vertical-align: middle;\n",
              "    }\n",
              "\n",
              "    .dataframe tbody tr th {\n",
              "        vertical-align: top;\n",
              "    }\n",
              "\n",
              "    .dataframe thead th {\n",
              "        text-align: right;\n",
              "    }\n",
              "</style>\n",
              "<table border=\"1\" class=\"dataframe\">\n",
              "  <thead>\n",
              "    <tr style=\"text-align: right;\">\n",
              "      <th></th>\n",
              "      <th>Diabetes_012</th>\n",
              "      <th>HighBP</th>\n",
              "      <th>HighChol</th>\n",
              "      <th>CholCheck</th>\n",
              "      <th>BMI</th>\n",
              "      <th>Smoker</th>\n",
              "      <th>Stroke</th>\n",
              "      <th>HeartDiseaseorAttack</th>\n",
              "      <th>PhysActivity</th>\n",
              "      <th>Fruits</th>\n",
              "      <th>...</th>\n",
              "      <th>AnyHealthcare</th>\n",
              "      <th>NoDocbcCost</th>\n",
              "      <th>GenHlth</th>\n",
              "      <th>MentHlth</th>\n",
              "      <th>PhysHlth</th>\n",
              "      <th>DiffWalk</th>\n",
              "      <th>Sex</th>\n",
              "      <th>Age</th>\n",
              "      <th>Education</th>\n",
              "      <th>Income</th>\n",
              "    </tr>\n",
              "  </thead>\n",
              "  <tbody>\n",
              "    <tr>\n",
              "      <th>219620</th>\n",
              "      <td>0.0</td>\n",
              "      <td>0.0</td>\n",
              "      <td>0.0</td>\n",
              "      <td>1.0</td>\n",
              "      <td>21.0</td>\n",
              "      <td>0.0</td>\n",
              "      <td>0.0</td>\n",
              "      <td>0.0</td>\n",
              "      <td>0.0</td>\n",
              "      <td>1.0</td>\n",
              "      <td>...</td>\n",
              "      <td>1.0</td>\n",
              "      <td>0.0</td>\n",
              "      <td>3.0</td>\n",
              "      <td>3.0</td>\n",
              "      <td>7.0</td>\n",
              "      <td>0.0</td>\n",
              "      <td>0.0</td>\n",
              "      <td>7.0</td>\n",
              "      <td>4.0</td>\n",
              "      <td>2.0</td>\n",
              "    </tr>\n",
              "    <tr>\n",
              "      <th>132821</th>\n",
              "      <td>0.0</td>\n",
              "      <td>1.0</td>\n",
              "      <td>1.0</td>\n",
              "      <td>1.0</td>\n",
              "      <td>28.0</td>\n",
              "      <td>0.0</td>\n",
              "      <td>0.0</td>\n",
              "      <td>0.0</td>\n",
              "      <td>1.0</td>\n",
              "      <td>1.0</td>\n",
              "      <td>...</td>\n",
              "      <td>1.0</td>\n",
              "      <td>0.0</td>\n",
              "      <td>3.0</td>\n",
              "      <td>0.0</td>\n",
              "      <td>0.0</td>\n",
              "      <td>0.0</td>\n",
              "      <td>0.0</td>\n",
              "      <td>13.0</td>\n",
              "      <td>6.0</td>\n",
              "      <td>6.0</td>\n",
              "    </tr>\n",
              "    <tr>\n",
              "      <th>151862</th>\n",
              "      <td>0.0</td>\n",
              "      <td>0.0</td>\n",
              "      <td>0.0</td>\n",
              "      <td>1.0</td>\n",
              "      <td>24.0</td>\n",
              "      <td>0.0</td>\n",
              "      <td>0.0</td>\n",
              "      <td>0.0</td>\n",
              "      <td>1.0</td>\n",
              "      <td>1.0</td>\n",
              "      <td>...</td>\n",
              "      <td>1.0</td>\n",
              "      <td>0.0</td>\n",
              "      <td>1.0</td>\n",
              "      <td>0.0</td>\n",
              "      <td>0.0</td>\n",
              "      <td>0.0</td>\n",
              "      <td>1.0</td>\n",
              "      <td>1.0</td>\n",
              "      <td>4.0</td>\n",
              "      <td>7.0</td>\n",
              "    </tr>\n",
              "  </tbody>\n",
              "</table>\n",
              "<p>3 rows × 22 columns</p>\n",
              "</div>\n",
              "    <div class=\"colab-df-buttons\">\n",
              "\n",
              "  <div class=\"colab-df-container\">\n",
              "    <button class=\"colab-df-convert\" onclick=\"convertToInteractive('df-9f768f88-4145-442b-b074-5b67647c18b0')\"\n",
              "            title=\"Convert this dataframe to an interactive table.\"\n",
              "            style=\"display:none;\">\n",
              "\n",
              "  <svg xmlns=\"http://www.w3.org/2000/svg\" height=\"24px\" viewBox=\"0 -960 960 960\">\n",
              "    <path d=\"M120-120v-720h720v720H120Zm60-500h600v-160H180v160Zm220 220h160v-160H400v160Zm0 220h160v-160H400v160ZM180-400h160v-160H180v160Zm440 0h160v-160H620v160ZM180-180h160v-160H180v160Zm440 0h160v-160H620v160Z\"/>\n",
              "  </svg>\n",
              "    </button>\n",
              "\n",
              "  <style>\n",
              "    .colab-df-container {\n",
              "      display:flex;\n",
              "      gap: 12px;\n",
              "    }\n",
              "\n",
              "    .colab-df-convert {\n",
              "      background-color: #E8F0FE;\n",
              "      border: none;\n",
              "      border-radius: 50%;\n",
              "      cursor: pointer;\n",
              "      display: none;\n",
              "      fill: #1967D2;\n",
              "      height: 32px;\n",
              "      padding: 0 0 0 0;\n",
              "      width: 32px;\n",
              "    }\n",
              "\n",
              "    .colab-df-convert:hover {\n",
              "      background-color: #E2EBFA;\n",
              "      box-shadow: 0px 1px 2px rgba(60, 64, 67, 0.3), 0px 1px 3px 1px rgba(60, 64, 67, 0.15);\n",
              "      fill: #174EA6;\n",
              "    }\n",
              "\n",
              "    .colab-df-buttons div {\n",
              "      margin-bottom: 4px;\n",
              "    }\n",
              "\n",
              "    [theme=dark] .colab-df-convert {\n",
              "      background-color: #3B4455;\n",
              "      fill: #D2E3FC;\n",
              "    }\n",
              "\n",
              "    [theme=dark] .colab-df-convert:hover {\n",
              "      background-color: #434B5C;\n",
              "      box-shadow: 0px 1px 3px 1px rgba(0, 0, 0, 0.15);\n",
              "      filter: drop-shadow(0px 1px 2px rgba(0, 0, 0, 0.3));\n",
              "      fill: #FFFFFF;\n",
              "    }\n",
              "  </style>\n",
              "\n",
              "    <script>\n",
              "      const buttonEl =\n",
              "        document.querySelector('#df-9f768f88-4145-442b-b074-5b67647c18b0 button.colab-df-convert');\n",
              "      buttonEl.style.display =\n",
              "        google.colab.kernel.accessAllowed ? 'block' : 'none';\n",
              "\n",
              "      async function convertToInteractive(key) {\n",
              "        const element = document.querySelector('#df-9f768f88-4145-442b-b074-5b67647c18b0');\n",
              "        const dataTable =\n",
              "          await google.colab.kernel.invokeFunction('convertToInteractive',\n",
              "                                                    [key], {});\n",
              "        if (!dataTable) return;\n",
              "\n",
              "        const docLinkHtml = 'Like what you see? Visit the ' +\n",
              "          '<a target=\"_blank\" href=https://colab.research.google.com/notebooks/data_table.ipynb>data table notebook</a>'\n",
              "          + ' to learn more about interactive tables.';\n",
              "        element.innerHTML = '';\n",
              "        dataTable['output_type'] = 'display_data';\n",
              "        await google.colab.output.renderOutput(dataTable, element);\n",
              "        const docLink = document.createElement('div');\n",
              "        docLink.innerHTML = docLinkHtml;\n",
              "        element.appendChild(docLink);\n",
              "      }\n",
              "    </script>\n",
              "  </div>\n",
              "\n",
              "\n",
              "    <div id=\"df-d054841f-1ac7-46f4-9d89-3e0a964cb1e0\">\n",
              "      <button class=\"colab-df-quickchart\" onclick=\"quickchart('df-d054841f-1ac7-46f4-9d89-3e0a964cb1e0')\"\n",
              "                title=\"Suggest charts\"\n",
              "                style=\"display:none;\">\n",
              "\n",
              "<svg xmlns=\"http://www.w3.org/2000/svg\" height=\"24px\"viewBox=\"0 0 24 24\"\n",
              "     width=\"24px\">\n",
              "    <g>\n",
              "        <path d=\"M19 3H5c-1.1 0-2 .9-2 2v14c0 1.1.9 2 2 2h14c1.1 0 2-.9 2-2V5c0-1.1-.9-2-2-2zM9 17H7v-7h2v7zm4 0h-2V7h2v10zm4 0h-2v-4h2v4z\"/>\n",
              "    </g>\n",
              "</svg>\n",
              "      </button>\n",
              "\n",
              "<style>\n",
              "  .colab-df-quickchart {\n",
              "      --bg-color: #E8F0FE;\n",
              "      --fill-color: #1967D2;\n",
              "      --hover-bg-color: #E2EBFA;\n",
              "      --hover-fill-color: #174EA6;\n",
              "      --disabled-fill-color: #AAA;\n",
              "      --disabled-bg-color: #DDD;\n",
              "  }\n",
              "\n",
              "  [theme=dark] .colab-df-quickchart {\n",
              "      --bg-color: #3B4455;\n",
              "      --fill-color: #D2E3FC;\n",
              "      --hover-bg-color: #434B5C;\n",
              "      --hover-fill-color: #FFFFFF;\n",
              "      --disabled-bg-color: #3B4455;\n",
              "      --disabled-fill-color: #666;\n",
              "  }\n",
              "\n",
              "  .colab-df-quickchart {\n",
              "    background-color: var(--bg-color);\n",
              "    border: none;\n",
              "    border-radius: 50%;\n",
              "    cursor: pointer;\n",
              "    display: none;\n",
              "    fill: var(--fill-color);\n",
              "    height: 32px;\n",
              "    padding: 0;\n",
              "    width: 32px;\n",
              "  }\n",
              "\n",
              "  .colab-df-quickchart:hover {\n",
              "    background-color: var(--hover-bg-color);\n",
              "    box-shadow: 0 1px 2px rgba(60, 64, 67, 0.3), 0 1px 3px 1px rgba(60, 64, 67, 0.15);\n",
              "    fill: var(--button-hover-fill-color);\n",
              "  }\n",
              "\n",
              "  .colab-df-quickchart-complete:disabled,\n",
              "  .colab-df-quickchart-complete:disabled:hover {\n",
              "    background-color: var(--disabled-bg-color);\n",
              "    fill: var(--disabled-fill-color);\n",
              "    box-shadow: none;\n",
              "  }\n",
              "\n",
              "  .colab-df-spinner {\n",
              "    border: 2px solid var(--fill-color);\n",
              "    border-color: transparent;\n",
              "    border-bottom-color: var(--fill-color);\n",
              "    animation:\n",
              "      spin 1s steps(1) infinite;\n",
              "  }\n",
              "\n",
              "  @keyframes spin {\n",
              "    0% {\n",
              "      border-color: transparent;\n",
              "      border-bottom-color: var(--fill-color);\n",
              "      border-left-color: var(--fill-color);\n",
              "    }\n",
              "    20% {\n",
              "      border-color: transparent;\n",
              "      border-left-color: var(--fill-color);\n",
              "      border-top-color: var(--fill-color);\n",
              "    }\n",
              "    30% {\n",
              "      border-color: transparent;\n",
              "      border-left-color: var(--fill-color);\n",
              "      border-top-color: var(--fill-color);\n",
              "      border-right-color: var(--fill-color);\n",
              "    }\n",
              "    40% {\n",
              "      border-color: transparent;\n",
              "      border-right-color: var(--fill-color);\n",
              "      border-top-color: var(--fill-color);\n",
              "    }\n",
              "    60% {\n",
              "      border-color: transparent;\n",
              "      border-right-color: var(--fill-color);\n",
              "    }\n",
              "    80% {\n",
              "      border-color: transparent;\n",
              "      border-right-color: var(--fill-color);\n",
              "      border-bottom-color: var(--fill-color);\n",
              "    }\n",
              "    90% {\n",
              "      border-color: transparent;\n",
              "      border-bottom-color: var(--fill-color);\n",
              "    }\n",
              "  }\n",
              "</style>\n",
              "\n",
              "      <script>\n",
              "        async function quickchart(key) {\n",
              "          const quickchartButtonEl =\n",
              "            document.querySelector('#' + key + ' button');\n",
              "          quickchartButtonEl.disabled = true;  // To prevent multiple clicks.\n",
              "          quickchartButtonEl.classList.add('colab-df-spinner');\n",
              "          try {\n",
              "            const charts = await google.colab.kernel.invokeFunction(\n",
              "                'suggestCharts', [key], {});\n",
              "          } catch (error) {\n",
              "            console.error('Error during call to suggestCharts:', error);\n",
              "          }\n",
              "          quickchartButtonEl.classList.remove('colab-df-spinner');\n",
              "          quickchartButtonEl.classList.add('colab-df-quickchart-complete');\n",
              "        }\n",
              "        (() => {\n",
              "          let quickchartButtonEl =\n",
              "            document.querySelector('#df-d054841f-1ac7-46f4-9d89-3e0a964cb1e0 button');\n",
              "          quickchartButtonEl.style.display =\n",
              "            google.colab.kernel.accessAllowed ? 'block' : 'none';\n",
              "        })();\n",
              "      </script>\n",
              "    </div>\n",
              "\n",
              "    </div>\n",
              "  </div>\n"
            ],
            "application/vnd.google.colaboratory.intrinsic+json": {
              "type": "dataframe"
            }
          },
          "metadata": {},
          "execution_count": 135
        }
      ]
    },
    {
      "cell_type": "markdown",
      "source": [
        "## Tugas 4: Seleksi Data dengan `.loc` dan `.iloc`\n"
      ],
      "metadata": {
        "id": "c_1Ls3Bwd2E2"
      }
    },
    {
      "cell_type": "markdown",
      "source": [
        "**Instruksi:**\n",
        "1. Pilih baris ke-0 sampai ke-4 dan kolom `['Diabetes_012', 'BMI', 'Age']` menggunakan `.loc`, simpan ke dalam `df_loc`.\n",
        "2. Pilih baris ke-10 sampai ke-14 dan kolom ke-0 sampai ke-2 menggunakan `.iloc`, simpan ke dalam `df_iloc`.\n",
        "3. Tampilkan kedua DataFrame (`df_loc` dan `df_iloc`) untuk melihat hasilnya.\n",
        "\n",
        "**Expected Output (contoh ringkas):**\n",
        "\n",
        "👉 `df_loc`\n",
        "```\n",
        "    Diabetes_012  BMI   Age\n",
        "0   0.0           40.0  9.0\n",
        "1   0.0           25.0  7.0\n",
        "2   0.0           8.0   9.0\n",
        "3   0.0           27.0  11.0\n",
        "4   0.0           24.0  11.0\n",
        "```\n",
        "\n",
        "👉 `df_iloc`\n",
        "```\n",
        "    Diabetes_012  HighBP  HighChol\n",
        "10  0.0           0.0     0.0\n",
        "11  0.0           0.0     0.0\n",
        "12  0.0           0.0     0.0\n",
        "13  0.0           0.0     0.0\n",
        "14  0.0           0.0     1.0\n",
        "```"
      ],
      "metadata": {
        "id": "vxzlC0v2d5h6"
      }
    },
    {
      "cell_type": "code",
      "source": [
        "# Write your code here\n",
        "df_loc = df.loc[0:4,['Diabetes_012', 'BMI', 'Age']]\n",
        "df_iloc = df.iloc[10:15,0:3]\n",
        "print(df_loc)"
      ],
      "metadata": {
        "id": "TmtYSlhefRF8",
        "colab": {
          "base_uri": "https://localhost:8080/"
        },
        "outputId": "83f74c9e-27b4-4eda-a232-1292203480ce"
      },
      "execution_count": 136,
      "outputs": [
        {
          "output_type": "stream",
          "name": "stdout",
          "text": [
            "   Diabetes_012   BMI   Age\n",
            "0           0.0  40.0   9.0\n",
            "1           0.0  25.0   7.0\n",
            "2           0.0  28.0   9.0\n",
            "3           0.0  27.0  11.0\n",
            "4           0.0  24.0  11.0\n"
          ]
        }
      ]
    },
    {
      "cell_type": "code",
      "source": [
        "print(df_iloc)"
      ],
      "metadata": {
        "colab": {
          "base_uri": "https://localhost:8080/"
        },
        "id": "OpBVB6hgMFFY",
        "outputId": "a8ae0585-a7b3-499d-e5d2-0d91f0bc300e"
      },
      "execution_count": 137,
      "outputs": [
        {
          "output_type": "stream",
          "name": "stdout",
          "text": [
            "    Diabetes_012  HighBP  HighChol\n",
            "10           2.0     0.0       0.0\n",
            "11           0.0     1.0       1.0\n",
            "12           0.0     0.0       0.0\n",
            "13           2.0     1.0       1.0\n",
            "14           0.0     0.0       1.0\n"
          ]
        }
      ]
    },
    {
      "cell_type": "markdown",
      "source": [
        "## Tugas 5: Filtering Data"
      ],
      "metadata": {
        "id": "5cl6AfHgE214"
      }
    },
    {
      "cell_type": "markdown",
      "source": [
        "**Instruksi:**\n",
        "1. Pilih semua baris dengan **BMI lebih dari 30** dan simpan ke dalam `df_obese`.\n",
        "2. Pilih semua baris dengan **Diabetes_012 = 1** dan simpan ke dalam `df_diabetes`.\n",
        "3. Terapkan filter gabungan: pilih semua baris dengan **BMI > 30** dan **Diabetes_012 = 1**, simpan ke dalam `df_highrisk`.\n",
        "4. Tampilkan jumlah baris untuk tiap DataFrame hasil filter (`len(df_xxx)`).\n",
        "\n",
        "**Expected Output (contoh ringkas):**\n",
        "- `df_obese` → DataFrame dengan hanya baris BMI > 30  \n",
        "- `df_diabetes` → DataFrame dengan hanya baris Diabetes_012 = 1  \n",
        "- `df_highrisk` → DataFrame gabungan kondisi  \n",
        "- Output jumlah baris, misalnya:  \n",
        "  - Jumlah baris df_obese: 98000\n",
        "  - Jumlah baris df_diabetes: 34000\n",
        "  - Jumlah baris df_highrisk: 12000"
      ],
      "metadata": {
        "id": "rYctCRtTE33Z"
      }
    },
    {
      "cell_type": "code",
      "source": [
        "# Write your code here\n",
        "df_obese = len(df[df['BMI']>30])\n",
        "print(df_obese)\n",
        "df_diabetes = len(df[df['Diabetes_012']==1])\n",
        "print(df_diabetes)\n",
        "df_highrisk = len(df[(df['BMI']>30) & (df['Diabetes_012']==1)])\n",
        "print(df_highrisk)"
      ],
      "metadata": {
        "id": "QK6ZHrQkFg57",
        "colab": {
          "base_uri": "https://localhost:8080/"
        },
        "outputId": "af20537a-3a59-4a80-e965-253b74a393a6"
      },
      "execution_count": 138,
      "outputs": [
        {
          "output_type": "stream",
          "name": "stdout",
          "text": [
            "73278\n",
            "4631\n",
            "2046\n"
          ]
        }
      ]
    },
    {
      "cell_type": "markdown",
      "source": [
        "## Tugas 6: Filtering dengan `.isin()`"
      ],
      "metadata": {
        "id": "VKHvYzqeKUsI"
      }
    },
    {
      "cell_type": "markdown",
      "source": [
        "**Instruksi:**\n",
        "1. Pilih semua baris di mana kolom `Age` bernilai **[7, 8, 9]**, simpan ke dalam `df_agegroup`.\n",
        "2. Pilih semua baris di mana kolom `Income` bernilai **[1, 2]** (pendapatan rendah), simpan ke dalam `df_lowincome`.\n",
        "3. Tampilkan 5 baris pertama dari masing-masing DataFrame.\n",
        "\n",
        "**Expected Output (contoh ringkas):**\n",
        "\n",
        "👉 `df_agegroup`\n",
        "```\n",
        "    Diabetes_012  HighBP  HighChol  ... Age   Education Income\n",
        "1   0.0           0.0     0.0       ... 7.0   6.0       1.0\n",
        "2   0.0           1.0     1.0       ... 9.0   4.0       8.0\n",
        "...\n",
        "```\n",
        "\n",
        "\n",
        "👉 `df_lowincome`\n",
        "```\n",
        "    Diabetes_012  HighBP  HighChol  ... Age   Education Income\n",
        "1   0.0           0.0     0.0       ... 7.0   6.0       1.0\n",
        "8   0.0           1.0     1.0       ... 11.0  4.0       2.0\n",
        "...\n",
        "```"
      ],
      "metadata": {
        "id": "8FBX0wGjKVnd"
      }
    },
    {
      "cell_type": "code",
      "source": [
        "# Write your code here\n",
        "df_agegroup = df[df['Age'].isin([7,8,9])]\n",
        "print(df_agegroup.head(5))"
      ],
      "metadata": {
        "id": "kK0OEUiWL1i-",
        "colab": {
          "base_uri": "https://localhost:8080/"
        },
        "outputId": "2eee6b51-3882-4271-ebc6-7e05c5ec5969"
      },
      "execution_count": 139,
      "outputs": [
        {
          "output_type": "stream",
          "name": "stdout",
          "text": [
            "   Diabetes_012  HighBP  HighChol  CholCheck   BMI  Smoker  Stroke  \\\n",
            "0           0.0     1.0       1.0        1.0  40.0     1.0     0.0   \n",
            "1           0.0     0.0       0.0        0.0  25.0     1.0     0.0   \n",
            "2           0.0     1.0       1.0        1.0  28.0     0.0     0.0   \n",
            "6           0.0     1.0       0.0        1.0  30.0     1.0     0.0   \n",
            "8           2.0     1.0       1.0        1.0  30.0     1.0     0.0   \n",
            "\n",
            "   HeartDiseaseorAttack  PhysActivity  Fruits  ...  AnyHealthcare  \\\n",
            "0                   0.0           0.0     0.0  ...            1.0   \n",
            "1                   0.0           1.0     0.0  ...            0.0   \n",
            "2                   0.0           0.0     1.0  ...            1.0   \n",
            "6                   0.0           0.0     0.0  ...            1.0   \n",
            "8                   1.0           0.0     1.0  ...            1.0   \n",
            "\n",
            "   NoDocbcCost  GenHlth  MentHlth  PhysHlth  DiffWalk  Sex  Age  Education  \\\n",
            "0          0.0      5.0      18.0      15.0       1.0  0.0  9.0        4.0   \n",
            "1          1.0      3.0       0.0       0.0       0.0  0.0  7.0        6.0   \n",
            "2          1.0      5.0      30.0      30.0       1.0  0.0  9.0        4.0   \n",
            "6          0.0      3.0       0.0      14.0       0.0  0.0  9.0        6.0   \n",
            "8          0.0      5.0      30.0      30.0       1.0  0.0  9.0        5.0   \n",
            "\n",
            "   Income  \n",
            "0     3.0  \n",
            "1     1.0  \n",
            "2     8.0  \n",
            "6     7.0  \n",
            "8     1.0  \n",
            "\n",
            "[5 rows x 22 columns]\n"
          ]
        }
      ]
    },
    {
      "cell_type": "code",
      "source": [
        "df_lowincome = df[df['Income'].isin([1,2])]\n",
        "print(df_lowincome.head(5))"
      ],
      "metadata": {
        "colab": {
          "base_uri": "https://localhost:8080/"
        },
        "id": "xWn8PRFXzqvz",
        "outputId": "0dce3f05-d987-4e78-86e7-388106ba61e3"
      },
      "execution_count": 140,
      "outputs": [
        {
          "output_type": "stream",
          "name": "stdout",
          "text": [
            "    Diabetes_012  HighBP  HighChol  CholCheck   BMI  Smoker  Stroke  \\\n",
            "1            0.0     0.0       0.0        0.0  25.0     1.0     0.0   \n",
            "8            2.0     1.0       1.0        1.0  30.0     1.0     0.0   \n",
            "11           0.0     1.0       1.0        1.0  34.0     1.0     0.0   \n",
            "14           0.0     0.0       1.0        1.0  33.0     1.0     1.0   \n",
            "33           0.0     1.0       0.0        1.0  31.0     0.0     0.0   \n",
            "\n",
            "    HeartDiseaseorAttack  PhysActivity  Fruits  ...  AnyHealthcare  \\\n",
            "1                    0.0           1.0     0.0  ...            0.0   \n",
            "8                    1.0           0.0     1.0  ...            1.0   \n",
            "11                   0.0           0.0     1.0  ...            1.0   \n",
            "14                   0.0           1.0     0.0  ...            1.0   \n",
            "33                   0.0           1.0     0.0  ...            1.0   \n",
            "\n",
            "    NoDocbcCost  GenHlth  MentHlth  PhysHlth  DiffWalk  Sex   Age  Education  \\\n",
            "1           1.0      3.0       0.0       0.0       0.0  0.0   7.0        6.0   \n",
            "8           0.0      5.0      30.0      30.0       1.0  0.0   9.0        5.0   \n",
            "11          0.0      3.0       0.0      30.0       1.0  0.0  10.0        5.0   \n",
            "14          1.0      4.0      30.0      28.0       0.0  0.0   4.0        6.0   \n",
            "33          0.0      3.0       0.0       0.0       0.0  1.0  11.0        6.0   \n",
            "\n",
            "    Income  \n",
            "1      1.0  \n",
            "8      1.0  \n",
            "11     1.0  \n",
            "14     2.0  \n",
            "33     2.0  \n",
            "\n",
            "[5 rows x 22 columns]\n"
          ]
        }
      ]
    },
    {
      "cell_type": "markdown",
      "source": [
        "## Tugas 7: Menghapus Kolom, Menyimpan Kolom Tertentu, dan Membuat Fitur Baru"
      ],
      "metadata": {
        "id": "kt3U4BGdQCG0"
      }
    },
    {
      "cell_type": "markdown",
      "source": [
        "**Instruksi:**\n",
        "1. **Drop kolom** `['CholCheck', 'Smoker']` dari `df`, simpan hasilnya ke `df_drop`.\n",
        "2. **Keep kolom** `['Diabetes_012', 'BMI', 'Age', 'HighBP', 'HighChol']` dari `df`, simpan ke `df_keep`.\n",
        "3. Pada `df_keep`, buat kolom fitur baru bernama **`BMI_Category`**:\n",
        "   - `Underweight` jika BMI < 18.5  \n",
        "   - `Normal` jika 18.5 ≤ BMI < 25  \n",
        "   - `Overweight` jika 25 ≤ BMI < 30  \n",
        "   - `Obese` jika BMI ≥ 30\n",
        "4. Tampilkan `df_drop.head()` dan `df_keep.head()`.\n",
        "\n",
        "**Catatan:**\n",
        "- Gunakan `.copy()` saat membuat subset untuk menghindari `SettingWithCopyWarning`.\n",
        "- Gunakan `pd.cut` untuk membuat kategori BMI.\n",
        "\n",
        "**Expected Output (contoh ringkas):**\n",
        "\n",
        "👉 `df_drop.head()` (tanpa kolom `CholCheck`, `Smoker`)\n",
        "```\n",
        "    Diabetes_012  HighBP  HighChol  BMI   Stroke    HeartDiseaseorAttack  ...\n",
        "0   0.0           1.0     1.0       40.0  0.0       0.0                   ...\n",
        "1   0.0           0.0     0.0       25.0  0.0       0.0                   ...\n",
        "...\n",
        "```\n",
        "\n",
        "\n",
        "👉 `df_keep.head()` (dengan kolom baru `BMI_Category`)\n",
        "```\n",
        "    Diabetes_012  BMI   Age   HighBP  HighChol  BMI_Category\n",
        "0   0.0           40.0  9.0   1.0     1.0       Obese\n",
        "1   0.0           25.0  7.0   0.0     0.0       Overweight\n",
        "2   0.0           28.0  9.0   1.0     1.0       Overweight\n",
        "3   0.0           27.0  11.0  1.0     0.0       Overweight\n",
        "4   0.0           24.0  11.0  1.0     1.0       Normal\n",
        "...\n",
        "```"
      ],
      "metadata": {
        "id": "rdfNoZYeQEde"
      }
    },
    {
      "cell_type": "code",
      "source": [
        "# Write your code here\n",
        "df_drop = df.drop(columns=['CholCheck', 'Smoker'])\n",
        "df_keep = df[['Diabetes_012', 'BMI', 'Age', 'HighBP', 'HighChol']].copy()\n",
        "BMI_Category = pd.cut(df_keep['BMI'],bins=[0,18.5,25,30,float('inf')],\n",
        "                      labels=['Underweight','Normal','Overweight','Obese'])\n",
        "df_keep['BMI_Category'] = BMI_Category\n",
        "print(df_drop.head())"
      ],
      "metadata": {
        "id": "IWdqJ_8LR5yx",
        "colab": {
          "base_uri": "https://localhost:8080/"
        },
        "outputId": "8aadcd3d-483c-4c68-b0a1-6d0ae2e18f44"
      },
      "execution_count": 141,
      "outputs": [
        {
          "output_type": "stream",
          "name": "stdout",
          "text": [
            "   Diabetes_012  HighBP  HighChol   BMI  Stroke  HeartDiseaseorAttack  \\\n",
            "0           0.0     1.0       1.0  40.0     0.0                   0.0   \n",
            "1           0.0     0.0       0.0  25.0     0.0                   0.0   \n",
            "2           0.0     1.0       1.0  28.0     0.0                   0.0   \n",
            "3           0.0     1.0       0.0  27.0     0.0                   0.0   \n",
            "4           0.0     1.0       1.0  24.0     0.0                   0.0   \n",
            "\n",
            "   PhysActivity  Fruits  Veggies  HvyAlcoholConsump  AnyHealthcare  \\\n",
            "0           0.0     0.0      1.0                0.0            1.0   \n",
            "1           1.0     0.0      0.0                0.0            0.0   \n",
            "2           0.0     1.0      0.0                0.0            1.0   \n",
            "3           1.0     1.0      1.0                0.0            1.0   \n",
            "4           1.0     1.0      1.0                0.0            1.0   \n",
            "\n",
            "   NoDocbcCost  GenHlth  MentHlth  PhysHlth  DiffWalk  Sex   Age  Education  \\\n",
            "0          0.0      5.0      18.0      15.0       1.0  0.0   9.0        4.0   \n",
            "1          1.0      3.0       0.0       0.0       0.0  0.0   7.0        6.0   \n",
            "2          1.0      5.0      30.0      30.0       1.0  0.0   9.0        4.0   \n",
            "3          0.0      2.0       0.0       0.0       0.0  0.0  11.0        3.0   \n",
            "4          0.0      2.0       3.0       0.0       0.0  0.0  11.0        5.0   \n",
            "\n",
            "   Income  \n",
            "0     3.0  \n",
            "1     1.0  \n",
            "2     8.0  \n",
            "3     6.0  \n",
            "4     4.0  \n"
          ]
        }
      ]
    },
    {
      "cell_type": "code",
      "source": [
        "print(df_keep.head())"
      ],
      "metadata": {
        "colab": {
          "base_uri": "https://localhost:8080/"
        },
        "id": "IdVXr7pZ2mhR",
        "outputId": "0e728d2a-e10d-4025-df7b-7f7db2744fc9"
      },
      "execution_count": 142,
      "outputs": [
        {
          "output_type": "stream",
          "name": "stdout",
          "text": [
            "   Diabetes_012   BMI   Age  HighBP  HighChol BMI_Category\n",
            "0           0.0  40.0   9.0     1.0       1.0        Obese\n",
            "1           0.0  25.0   7.0     0.0       0.0       Normal\n",
            "2           0.0  28.0   9.0     1.0       1.0   Overweight\n",
            "3           0.0  27.0  11.0     1.0       0.0   Overweight\n",
            "4           0.0  24.0  11.0     1.0       1.0       Normal\n"
          ]
        }
      ]
    },
    {
      "cell_type": "markdown",
      "source": [
        "## Tugas 8: Buat Fitur dari Operasi Aritmetika, Hapus Kolom Asal, dan Rename"
      ],
      "metadata": {
        "id": "MlzqagE2UvX9"
      }
    },
    {
      "cell_type": "markdown",
      "source": [
        "**Instruksi:**\n",
        "1. Buat salinan kerja: `df_fe = df.copy()`.\n",
        "2. Buat kolom baru **sementara** bernama `UnhealthyDays_temp` = `PhysHlth` + `MentHlth`.\n",
        "3. Hapus kolom asal `['PhysHlth', 'MentHlth']` dari `df_fe`.\n",
        "4. Rename `UnhealthyDays_temp` menjadi **`UnhealthyDays`**.\n",
        "5. Tampilkan `df_fe[['UnhealthyDays']].head()` dan pastikan kolom `PhysHlth` dan `MentHlth` **sudah tidak ada** (contoh: tampilkan daftar kolom).\n",
        "\n",
        "**Expected Output (contoh ringkas):**\n",
        "- Preview kolom baru:\n",
        "```\n",
        "    UnhealthyDays\n",
        "0   33.0\n",
        "1   0.0\n",
        "2   60.0\n",
        "3   0.0\n",
        "4   3.0\n",
        "```\n",
        "- Daftar kolom **tidak** mengandung `PhysHlth` & `MentHlth`, dan **mengandung** `UnhealthyDays`.\n",
        "```\n",
        "['Diabetes_012', 'HighBP', 'HighChol', 'CholCheck', 'BMI', 'Smoker', ..., 'DiffWalk', 'Sex', 'Age', 'Education', 'Income', 'UnhealthyDays']\n",
        "```\n"
      ],
      "metadata": {
        "id": "FbTyEFZYUwKE"
      }
    },
    {
      "cell_type": "code",
      "source": [
        "# Write your code here\n",
        "df_fe = df.copy()\n",
        "df_fe['UnhealthyDays_temp'] = df_fe['PhysHlth'] + df_fe['MentHlth']\n",
        "df_fe = df_fe.drop(columns=['PhysHlth', 'MentHlth'])\n",
        "df_fe = df_fe.rename(columns={'UnhealthyDays_temp':'UnhealthyDays'})\n",
        "print(df_fe[['UnhealthyDays']].head())"
      ],
      "metadata": {
        "id": "TN0KWHDYVFxb",
        "colab": {
          "base_uri": "https://localhost:8080/"
        },
        "outputId": "970dceae-0f22-4520-ef4c-a35fbcd7b8ba"
      },
      "execution_count": 143,
      "outputs": [
        {
          "output_type": "stream",
          "name": "stdout",
          "text": [
            "   UnhealthyDays\n",
            "0           33.0\n",
            "1            0.0\n",
            "2           60.0\n",
            "3            0.0\n",
            "4            3.0\n"
          ]
        }
      ]
    },
    {
      "cell_type": "code",
      "source": [
        "print(df_fe.head())"
      ],
      "metadata": {
        "colab": {
          "base_uri": "https://localhost:8080/"
        },
        "id": "vsrOTMkN72yu",
        "outputId": "7dc1d7d6-4d55-415d-adb8-278f04b592ac"
      },
      "execution_count": 144,
      "outputs": [
        {
          "output_type": "stream",
          "name": "stdout",
          "text": [
            "   Diabetes_012  HighBP  HighChol  CholCheck   BMI  Smoker  Stroke  \\\n",
            "0           0.0     1.0       1.0        1.0  40.0     1.0     0.0   \n",
            "1           0.0     0.0       0.0        0.0  25.0     1.0     0.0   \n",
            "2           0.0     1.0       1.0        1.0  28.0     0.0     0.0   \n",
            "3           0.0     1.0       0.0        1.0  27.0     0.0     0.0   \n",
            "4           0.0     1.0       1.0        1.0  24.0     0.0     0.0   \n",
            "\n",
            "   HeartDiseaseorAttack  PhysActivity  Fruits  ...  HvyAlcoholConsump  \\\n",
            "0                   0.0           0.0     0.0  ...                0.0   \n",
            "1                   0.0           1.0     0.0  ...                0.0   \n",
            "2                   0.0           0.0     1.0  ...                0.0   \n",
            "3                   0.0           1.0     1.0  ...                0.0   \n",
            "4                   0.0           1.0     1.0  ...                0.0   \n",
            "\n",
            "   AnyHealthcare  NoDocbcCost  GenHlth  DiffWalk  Sex   Age  Education  \\\n",
            "0            1.0          0.0      5.0       1.0  0.0   9.0        4.0   \n",
            "1            0.0          1.0      3.0       0.0  0.0   7.0        6.0   \n",
            "2            1.0          1.0      5.0       1.0  0.0   9.0        4.0   \n",
            "3            1.0          0.0      2.0       0.0  0.0  11.0        3.0   \n",
            "4            1.0          0.0      2.0       0.0  0.0  11.0        5.0   \n",
            "\n",
            "   Income  UnhealthyDays  \n",
            "0     3.0           33.0  \n",
            "1     1.0            0.0  \n",
            "2     8.0           60.0  \n",
            "3     6.0            0.0  \n",
            "4     4.0            3.0  \n",
            "\n",
            "[5 rows x 21 columns]\n"
          ]
        }
      ]
    },
    {
      "cell_type": "markdown",
      "source": [
        "## Tugas 9: Menggabungkan DataFrame dengan `pd.concat()` dan `pd.merge()`"
      ],
      "metadata": {
        "id": "lPYtdJ7bTvza"
      }
    },
    {
      "cell_type": "markdown",
      "source": [
        "### 9.a — pd.concat (baris/row-wise): menumpuk dua DataFrame"
      ],
      "metadata": {
        "id": "CsP1ze3UXEfP"
      }
    },
    {
      "cell_type": "markdown",
      "source": [
        "Instruksi:\n",
        "1. Buat dua DataFrame baru, df_part1 dan df_part2, dengan mengambil 5 baris pertama dan 5 baris berikutnya dari df.\n",
        "2. Gabungkan keduanya menjadi DataFrame baru df_concat_rows menggunakan pd.concat() dengan orientasi baris.\n",
        "3. Tampilkan 10 baris hasil gabungan.\n",
        "\n",
        "---\n",
        "\n",
        "Expected Output (contoh ringkas):\n",
        "```\n",
        "   Diabetes_012  HighBP  HighChol  CholCheck   BMI  Smoker  Stroke  ...\n",
        "0          0.0      1.0       1.0        1.0  40.0     1.0     0.0  ...\n",
        "1          0.0      0.0       0.0        0.0  25.0     1.0     0.0  ...\n",
        "...\n",
        "9          0.0      1.0       1.0        1.0  23.0     0.0     0.0  ...\n",
        "```"
      ],
      "metadata": {
        "id": "4PgI_ONdT0jR"
      }
    },
    {
      "cell_type": "code",
      "source": [
        "# Write your code here\n",
        "df_part1 = df.head(5)\n",
        "df_part2 = df.iloc[5:10,:]\n",
        "df_concat_row = pd.concat([df_part1,df_part2])\n",
        "print(df_concat_row)"
      ],
      "metadata": {
        "id": "vZBAnhn8U0WH",
        "colab": {
          "base_uri": "https://localhost:8080/"
        },
        "outputId": "fb5bad2a-1624-437c-feac-b162788d7dab"
      },
      "execution_count": 145,
      "outputs": [
        {
          "output_type": "stream",
          "name": "stdout",
          "text": [
            "   Diabetes_012  HighBP  HighChol  CholCheck   BMI  Smoker  Stroke  \\\n",
            "0           0.0     1.0       1.0        1.0  40.0     1.0     0.0   \n",
            "1           0.0     0.0       0.0        0.0  25.0     1.0     0.0   \n",
            "2           0.0     1.0       1.0        1.0  28.0     0.0     0.0   \n",
            "3           0.0     1.0       0.0        1.0  27.0     0.0     0.0   \n",
            "4           0.0     1.0       1.0        1.0  24.0     0.0     0.0   \n",
            "5           0.0     1.0       1.0        1.0  25.0     1.0     0.0   \n",
            "6           0.0     1.0       0.0        1.0  30.0     1.0     0.0   \n",
            "7           0.0     1.0       1.0        1.0  25.0     1.0     0.0   \n",
            "8           2.0     1.0       1.0        1.0  30.0     1.0     0.0   \n",
            "9           0.0     0.0       0.0        1.0  24.0     0.0     0.0   \n",
            "\n",
            "   HeartDiseaseorAttack  PhysActivity  Fruits  ...  AnyHealthcare  \\\n",
            "0                   0.0           0.0     0.0  ...            1.0   \n",
            "1                   0.0           1.0     0.0  ...            0.0   \n",
            "2                   0.0           0.0     1.0  ...            1.0   \n",
            "3                   0.0           1.0     1.0  ...            1.0   \n",
            "4                   0.0           1.0     1.0  ...            1.0   \n",
            "5                   0.0           1.0     1.0  ...            1.0   \n",
            "6                   0.0           0.0     0.0  ...            1.0   \n",
            "7                   0.0           1.0     0.0  ...            1.0   \n",
            "8                   1.0           0.0     1.0  ...            1.0   \n",
            "9                   0.0           0.0     0.0  ...            1.0   \n",
            "\n",
            "   NoDocbcCost  GenHlth  MentHlth  PhysHlth  DiffWalk  Sex   Age  Education  \\\n",
            "0          0.0      5.0      18.0      15.0       1.0  0.0   9.0        4.0   \n",
            "1          1.0      3.0       0.0       0.0       0.0  0.0   7.0        6.0   \n",
            "2          1.0      5.0      30.0      30.0       1.0  0.0   9.0        4.0   \n",
            "3          0.0      2.0       0.0       0.0       0.0  0.0  11.0        3.0   \n",
            "4          0.0      2.0       3.0       0.0       0.0  0.0  11.0        5.0   \n",
            "5          0.0      2.0       0.0       2.0       0.0  1.0  10.0        6.0   \n",
            "6          0.0      3.0       0.0      14.0       0.0  0.0   9.0        6.0   \n",
            "7          0.0      3.0       0.0       0.0       1.0  0.0  11.0        4.0   \n",
            "8          0.0      5.0      30.0      30.0       1.0  0.0   9.0        5.0   \n",
            "9          0.0      2.0       0.0       0.0       0.0  1.0   8.0        4.0   \n",
            "\n",
            "   Income  \n",
            "0     3.0  \n",
            "1     1.0  \n",
            "2     8.0  \n",
            "3     6.0  \n",
            "4     4.0  \n",
            "5     8.0  \n",
            "6     7.0  \n",
            "7     4.0  \n",
            "8     1.0  \n",
            "9     3.0  \n",
            "\n",
            "[10 rows x 22 columns]\n"
          ]
        }
      ]
    },
    {
      "cell_type": "markdown",
      "source": [
        "### 9.b — pd.concat (kolom/column-wise): menyatukan fitur berdasar index"
      ],
      "metadata": {
        "id": "y-CqqT6dU0oL"
      }
    },
    {
      "cell_type": "markdown",
      "source": [
        "Instruksi:\n",
        "1. Ambil 5 baris pertama dataset df menjadi df_cols1 dengan hanya kolom: ['Diabetes_012', 'HighBP', 'HighChol'].\n",
        "2. Ambil 5 baris pertama dataset df menjadi df_cols2 dengan kolom: ['BMI', 'Smoker', 'Stroke'].\n",
        "3. Gabungkan kedua DataFrame ini berdampingan menggunakan pd.concat() dengan orientasi kolom.\n",
        "4. Tampilkan hasil gabungan.\n",
        "\n",
        "---\n",
        "\n",
        "Expected Output (contoh ringkas):\n",
        "```\n",
        "   Diabetes_012  HighBP  HighChol   BMI  Smoker  Stroke\n",
        "0          0.0      1.0       1.0  40.0     1.0     0.0\n",
        "1          0.0      0.0       0.0  25.0     1.0     0.0\n",
        "...\n",
        "4          0.0      1.0       1.0  24.0     0.0     0.0\n",
        "```"
      ],
      "metadata": {
        "id": "wAh6CW5iXH-9"
      }
    },
    {
      "cell_type": "code",
      "source": [
        "# Write your code here\n",
        "df_cols1 = df.loc[0:4,['Diabetes_012', 'HighBP', 'HighChol']]\n",
        "df_cols2 = df.loc[0:4,['BMI', 'Smoker', 'Stroke']]\n",
        "df_concat_col = pd.concat([df_cols1,df_cols2],axis=1)\n",
        "print(df_concat_col)"
      ],
      "metadata": {
        "id": "UQk7rrpCX0Hs",
        "colab": {
          "base_uri": "https://localhost:8080/"
        },
        "outputId": "56ee2764-00b8-4d75-bbbb-acb7cabecea1"
      },
      "execution_count": 146,
      "outputs": [
        {
          "output_type": "stream",
          "name": "stdout",
          "text": [
            "   Diabetes_012  HighBP  HighChol   BMI  Smoker  Stroke\n",
            "0           0.0     1.0       1.0  40.0     1.0     0.0\n",
            "1           0.0     0.0       0.0  25.0     1.0     0.0\n",
            "2           0.0     1.0       1.0  28.0     0.0     0.0\n",
            "3           0.0     1.0       0.0  27.0     0.0     0.0\n",
            "4           0.0     1.0       1.0  24.0     0.0     0.0\n"
          ]
        }
      ]
    },
    {
      "cell_type": "markdown",
      "source": [
        "### 9.c Menggabungkan DataFrame dengan pd.merge() (Inner Join)"
      ],
      "metadata": {
        "id": "09C0vyghZM9l"
      }
    },
    {
      "cell_type": "markdown",
      "source": [
        "Instruksi:\n",
        "1. Ambil 10 baris pertama dataset df menjadi df_left dan df_right.\n",
        "2. Pada df_left, ambil hanya kolom ['Age', 'Education', 'Income'].\n",
        "3. Pada df_right, ambil kolom ['Age', 'BMI', 'Smoker'].\n",
        "4. Gabungkan kedua DataFrame tersebut berdasarkan kolom Age menggunakan pd.merge() dengan metode inner.\n",
        "5. Tampilkan hasil gabungan.\n",
        "\n",
        "---\n",
        "\n",
        "Expected Output (contoh ringkas):\n",
        "```\n",
        "   Age  Education  Income   BMI  Smoker\n",
        "0   9.0        4.0     3.0  40.0     1.0\n",
        "1   7.0        6.0     1.0  25.0     1.0\n",
        "...\n",
        "```"
      ],
      "metadata": {
        "id": "VQ9yov6YZWBF"
      }
    },
    {
      "cell_type": "code",
      "source": [
        "# Write your code here\n",
        "df_left = df.loc[0:9,['Age', 'Education', 'Income']]\n",
        "df_right = df.loc[0:9,['Age', 'BMI', 'Smoker']]\n",
        "df_merge_inner = pd.merge(df_left,df_right,on='Age',how='inner')\n",
        "print(df_merge_inner.head())"
      ],
      "metadata": {
        "id": "fFU6N1rLZfwI",
        "colab": {
          "base_uri": "https://localhost:8080/"
        },
        "outputId": "7117c394-e1ba-462d-87fe-3d5ce90feecb"
      },
      "execution_count": 147,
      "outputs": [
        {
          "output_type": "stream",
          "name": "stdout",
          "text": [
            "   Age  Education  Income   BMI  Smoker\n",
            "0  9.0        4.0     3.0  40.0     1.0\n",
            "1  9.0        4.0     3.0  28.0     0.0\n",
            "2  9.0        4.0     3.0  30.0     1.0\n",
            "3  9.0        4.0     3.0  30.0     1.0\n",
            "4  7.0        6.0     1.0  25.0     1.0\n"
          ]
        }
      ]
    },
    {
      "cell_type": "markdown",
      "source": [
        "### 9.d Perbedaan Jenis Join pada pd.merge()"
      ],
      "metadata": {
        "id": "sma6hw5xZpyO"
      }
    },
    {
      "cell_type": "markdown",
      "source": [
        "Instruksi:\n",
        "1. Gunakan df_left dan df_right dari 9.c.\n",
        "2. Lakukan empat jenis penggabungan:\n",
        "    - Inner Join → hanya data dengan Age yang cocok.\n",
        "    - Left Join → semua baris dari df_left.\n",
        "    - Right Join → semua baris dari df_right.\n",
        "    - Outer Join → semua data dari kedua tabel.\n",
        "3. Tampilkan hasil setiap join.\n",
        "\n",
        "---\n",
        "\n",
        "Expected Output (contoh ringkas Inner vs Outer):\n",
        "```\n",
        "# Inner Join\n",
        "   Age  Education  Income   BMI  Smoker\n",
        "0   9.0        4.0     3.0  40.0     1.0\n",
        "\n",
        "# Outer Join\n",
        "   Age  Education  Income   BMI  Smoker\n",
        "0   9.0        4.0     3.0  40.0     1.0\n",
        "1   11.0       3.0     6.0   NaN     NaN\n",
        "...\n",
        "```"
      ],
      "metadata": {
        "id": "HMEXLNJ_ZsLw"
      }
    },
    {
      "cell_type": "code",
      "source": [
        "# Write your code here\n",
        "print(\"# Inner Join\")\n",
        "print(df_merge_inner.head())"
      ],
      "metadata": {
        "id": "sQFhb-FuaJEk",
        "colab": {
          "base_uri": "https://localhost:8080/"
        },
        "outputId": "a693665c-de2f-4580-a031-2456c752f358"
      },
      "execution_count": 148,
      "outputs": [
        {
          "output_type": "stream",
          "name": "stdout",
          "text": [
            "# Inner Join\n",
            "   Age  Education  Income   BMI  Smoker\n",
            "0  9.0        4.0     3.0  40.0     1.0\n",
            "1  9.0        4.0     3.0  28.0     0.0\n",
            "2  9.0        4.0     3.0  30.0     1.0\n",
            "3  9.0        4.0     3.0  30.0     1.0\n",
            "4  7.0        6.0     1.0  25.0     1.0\n"
          ]
        }
      ]
    },
    {
      "cell_type": "code",
      "source": [
        "df_merge_left = pd.merge(df_left,df_right,how='left')\n",
        "print(\"# Left Join\")\n",
        "print(df_merge_left.head())"
      ],
      "metadata": {
        "colab": {
          "base_uri": "https://localhost:8080/"
        },
        "id": "jdMDKJI_EU5y",
        "outputId": "f65d37c2-dab3-4747-e5e5-f013f053ac5f"
      },
      "execution_count": 149,
      "outputs": [
        {
          "output_type": "stream",
          "name": "stdout",
          "text": [
            "# Left Join\n",
            "   Age  Education  Income   BMI  Smoker\n",
            "0  9.0        4.0     3.0  40.0     1.0\n",
            "1  9.0        4.0     3.0  28.0     0.0\n",
            "2  9.0        4.0     3.0  30.0     1.0\n",
            "3  9.0        4.0     3.0  30.0     1.0\n",
            "4  7.0        6.0     1.0  25.0     1.0\n"
          ]
        }
      ]
    },
    {
      "cell_type": "code",
      "source": [
        "df_merge_right = pd.merge(df_left,df_right,how='right')\n",
        "print(\"# Right Join\")\n",
        "print(df_merge_right.head())"
      ],
      "metadata": {
        "colab": {
          "base_uri": "https://localhost:8080/"
        },
        "id": "0T_PTjbxEaQE",
        "outputId": "5f845dca-6a03-4826-f988-32cdbfadf060"
      },
      "execution_count": 150,
      "outputs": [
        {
          "output_type": "stream",
          "name": "stdout",
          "text": [
            "# Right Join\n",
            "   Age  Education  Income   BMI  Smoker\n",
            "0  9.0        4.0     3.0  40.0     1.0\n",
            "1  9.0        4.0     8.0  40.0     1.0\n",
            "2  9.0        6.0     7.0  40.0     1.0\n",
            "3  9.0        5.0     1.0  40.0     1.0\n",
            "4  7.0        6.0     1.0  25.0     1.0\n"
          ]
        }
      ]
    },
    {
      "cell_type": "code",
      "source": [
        "df_merge_outer = pd.merge(df_left,df_right,how='outer')\n",
        "print(\"# Outer Join\")\n",
        "print(df_merge_outer.head())"
      ],
      "metadata": {
        "colab": {
          "base_uri": "https://localhost:8080/"
        },
        "id": "8BvBSD4CEfA5",
        "outputId": "b153085d-4aa2-472c-b5e6-d95e78a55bd9"
      },
      "execution_count": 151,
      "outputs": [
        {
          "output_type": "stream",
          "name": "stdout",
          "text": [
            "# Outer Join\n",
            "   Age  Education  Income   BMI  Smoker\n",
            "0  7.0        6.0     1.0  25.0     1.0\n",
            "1  8.0        4.0     3.0  24.0     0.0\n",
            "2  9.0        4.0     3.0  40.0     1.0\n",
            "3  9.0        4.0     3.0  28.0     0.0\n",
            "4  9.0        4.0     3.0  30.0     1.0\n"
          ]
        }
      ]
    },
    {
      "cell_type": "markdown",
      "source": [
        "## Tugas 10: Menangani Missing Values (NaN)"
      ],
      "metadata": {
        "id": "RigrDjBubJqf"
      }
    },
    {
      "cell_type": "markdown",
      "source": [
        "**Persiapan Dataset**\n",
        "\n",
        "Instruksi:\n",
        "\n",
        "- Jalankan sel ini untuk membuat beberapa nilai NaN secara sengaja di dataset.\n",
        "Tidak ada output yang diharapkan pada tahap ini — ini hanya menyiapkan dataset untuk tugas berikutnya."
      ],
      "metadata": {
        "id": "yBGq2-m_bOQg"
      }
    },
    {
      "cell_type": "code",
      "source": [
        "# Jalankan sel ini untuk membuat beberapa nilai NaN\n",
        "df_nan = df.copy()\n",
        "\n",
        "# Membuat beberapa NaN secara acak\n",
        "df_nan.loc[5:10, 'BMI'] = None\n",
        "df_nan.loc[3:8, 'Smoker'] = None\n",
        "df_nan.loc[0:2, 'Income'] = None\n",
        "\n",
        "print(\"Dataset telah dimodifikasi: beberapa nilai NaN ditambahkan.\")"
      ],
      "metadata": {
        "id": "z9AHfnAtbsnA",
        "colab": {
          "base_uri": "https://localhost:8080/"
        },
        "outputId": "808c0c37-2544-4237-a805-56e26f7c0533"
      },
      "execution_count": 152,
      "outputs": [
        {
          "output_type": "stream",
          "name": "stdout",
          "text": [
            "Dataset telah dimodifikasi: beberapa nilai NaN ditambahkan.\n"
          ]
        }
      ]
    },
    {
      "cell_type": "markdown",
      "source": [
        "### 10.a Cek Jumlah Missing Values per Kolom"
      ],
      "metadata": {
        "id": "t5A-Kcd9csIc"
      }
    },
    {
      "cell_type": "markdown",
      "source": [
        "Instruksi:\n",
        "1. Gunakan fungsi isna() atau isnull() untuk memeriksa nilai yang hilang.\n",
        "2. Hitung jumlah missing values per kolom menggunakan sum().\n",
        "3. Simpan hasilnya ke dalam DataFrame bernama missing_count dan tampilkan.\n",
        "\n",
        "Expected Output (contoh ringkas):\n",
        "```\n",
        "      missing_count\n",
        "BMI             6\n",
        "Smoker          6\n",
        "Income          3\n",
        "...           ...\n",
        "```"
      ],
      "metadata": {
        "id": "W8mvHvdnctdh"
      }
    },
    {
      "cell_type": "code",
      "source": [
        "# Write your code here\n",
        "missing_count = df_nan.isnull().sum()\n",
        "missing_count = missing_count[missing_count>0]\n",
        "print(missing_count)"
      ],
      "metadata": {
        "id": "VvEfoflAc0db",
        "colab": {
          "base_uri": "https://localhost:8080/"
        },
        "outputId": "6b80df69-4bea-419c-e862-1d477854bbe6"
      },
      "execution_count": 153,
      "outputs": [
        {
          "output_type": "stream",
          "name": "stdout",
          "text": [
            "BMI       6\n",
            "Smoker    6\n",
            "Income    3\n",
            "dtype: int64\n"
          ]
        }
      ]
    },
    {
      "cell_type": "markdown",
      "source": [
        "### 10.b Menghapus Baris dengan Missing Values"
      ],
      "metadata": {
        "id": "XihDYP196ntL"
      }
    },
    {
      "cell_type": "markdown",
      "source": [
        "Instruksi:\n",
        "1. Hapus semua baris yang memiliki minimal satu nilai NaN menggunakan dropna().\n",
        "2. Simpan hasilnya ke dalam DataFrame baru bernama df_dropna.\n",
        "3. Tampilkan 5 baris pertama dari df_dropna.\n",
        "\n",
        "Expected Output (contoh ringkas):\n",
        "```\n",
        "   Diabetes_012  HighBP  HighChol  CholCheck   BMI  Smoker  Stroke  ...\n",
        "0          0.0      1.0       1.0        1.0  40.0     1.0     0.0 ...\n",
        "1          0.0      0.0       0.0        0.0  25.0     1.0     0.0 ...\n",
        "...\n",
        "```"
      ],
      "metadata": {
        "id": "LcaLnkrh6qMY"
      }
    },
    {
      "cell_type": "code",
      "source": [
        "# Write your code here\n",
        "df_dropna = df_nan.dropna()\n",
        "print(df_dropna.head())"
      ],
      "metadata": {
        "id": "kUSJSvmW61h-",
        "colab": {
          "base_uri": "https://localhost:8080/"
        },
        "outputId": "964bd3ba-93fc-4658-f3ba-4c75b5b97cd9"
      },
      "execution_count": 154,
      "outputs": [
        {
          "output_type": "stream",
          "name": "stdout",
          "text": [
            "    Diabetes_012  HighBP  HighChol  CholCheck   BMI  Smoker  Stroke  \\\n",
            "11           0.0     1.0       1.0        1.0  34.0     1.0     0.0   \n",
            "12           0.0     0.0       0.0        1.0  26.0     1.0     0.0   \n",
            "13           2.0     1.0       1.0        1.0  28.0     0.0     0.0   \n",
            "14           0.0     0.0       1.0        1.0  33.0     1.0     1.0   \n",
            "15           0.0     1.0       0.0        1.0  33.0     0.0     0.0   \n",
            "\n",
            "    HeartDiseaseorAttack  PhysActivity  Fruits  ...  AnyHealthcare  \\\n",
            "11                   0.0           0.0     1.0  ...            1.0   \n",
            "12                   0.0           0.0     0.0  ...            1.0   \n",
            "13                   0.0           0.0     0.0  ...            1.0   \n",
            "14                   0.0           1.0     0.0  ...            1.0   \n",
            "15                   0.0           1.0     0.0  ...            1.0   \n",
            "\n",
            "    NoDocbcCost  GenHlth  MentHlth  PhysHlth  DiffWalk  Sex   Age  Education  \\\n",
            "11          0.0      3.0       0.0      30.0       1.0  0.0  10.0        5.0   \n",
            "12          0.0      3.0       0.0      15.0       0.0  0.0   7.0        5.0   \n",
            "13          0.0      4.0       0.0       0.0       1.0  0.0  11.0        4.0   \n",
            "14          1.0      4.0      30.0      28.0       0.0  0.0   4.0        6.0   \n",
            "15          0.0      2.0       5.0       0.0       0.0  0.0   6.0        6.0   \n",
            "\n",
            "    Income  \n",
            "11     1.0  \n",
            "12     7.0  \n",
            "13     6.0  \n",
            "14     2.0  \n",
            "15     8.0  \n",
            "\n",
            "[5 rows x 22 columns]\n"
          ]
        }
      ]
    },
    {
      "cell_type": "markdown",
      "source": [
        "### 10.c Mengisi Missing Values dengan Nilai Tertentu"
      ],
      "metadata": {
        "id": "0ppjR5pR7E0J"
      }
    },
    {
      "cell_type": "markdown",
      "source": [
        "Instruksi:\n",
        "1. Salin df ke DataFrame baru bernama df_fillna.\n",
        "2. Isi missing values pada kolom BMI dengan rata-rata (mean).\n",
        "3. Isi missing values pada kolom Smoker dengan modus (nilai yang paling sering muncul).\n",
        "4. Tampilkan 5 baris pertama dari df_fillna.\n",
        "\n",
        "Expected Output (contoh ringkas):\n",
        "```\n",
        "   BMI  Smoker\n",
        "0  40.0    1.0\n",
        "1  25.0    1.0\n",
        "2  28.0    0.0\n",
        "3  27.0    0.0\n",
        "4  24.0    0.0\n",
        "```\n"
      ],
      "metadata": {
        "id": "K2dtDw3K7H1u"
      }
    },
    {
      "cell_type": "code",
      "source": [
        "# Write your code here\n",
        "df_fillna = df_nan.copy()\n",
        "df_fillna['BMI'] = df_fillna['BMI'].fillna(df_fillna['BMI'].mean())\n",
        "df_fillna['Smoker'] = df_fillna['Smoker'].fillna(df_fillna['Smoker'].mode()[0])\n",
        "print(df_fillna[['BMI','Smoker']].head())"
      ],
      "metadata": {
        "id": "U7yxjLwV7T-R",
        "colab": {
          "base_uri": "https://localhost:8080/"
        },
        "outputId": "658f58ec-fe08-459a-b75d-7ca4cadc0793"
      },
      "execution_count": 155,
      "outputs": [
        {
          "output_type": "stream",
          "name": "stdout",
          "text": [
            "    BMI  Smoker\n",
            "0  40.0     1.0\n",
            "1  25.0     1.0\n",
            "2  28.0     0.0\n",
            "3  27.0     0.0\n",
            "4  24.0     0.0\n"
          ]
        }
      ]
    },
    {
      "cell_type": "markdown",
      "source": [
        "### 10.d Mengisi Missing Values dengan Forward Fill & Backward Fill"
      ],
      "metadata": {
        "id": "-5ECasri7mLZ"
      }
    },
    {
      "cell_type": "markdown",
      "source": [
        "Instruksi:\n",
        "1. Salin df ke DataFrame baru bernama df_forward, lalu lakukan forward fill pada kolom Income untuk mengisi nilai NaN dengan nilai baris sebelumnya.\n",
        "2. Salin df ke DataFrame baru bernama df_backward, lalu lakukan backward fill pada kolom Income untuk mengisi nilai NaN dengan nilai baris sesudahnya.\n",
        "3. Tampilkan hasil dari df_forward dan df_backward.\n",
        "\n",
        "Expected Output (contoh ringkas):\n",
        "```\n",
        "# Forward fill\n",
        "0    3.0\n",
        "1    3.0\n",
        "2    3.0\n",
        "\n",
        "# Backward fill\n",
        "0    1.0\n",
        "1    1.0\n",
        "2    8.0\n",
        "```"
      ],
      "metadata": {
        "id": "72IbNmzD7pYy"
      }
    },
    {
      "cell_type": "code",
      "source": [
        "# Write your code here\n",
        "df_forward = df_fillna.copy()\n",
        "df_forward['Income'] = df_forward['Income'].ffill()\n",
        "print(\"# Forward fill\")\n",
        "print(df_forward['Income'].head())"
      ],
      "metadata": {
        "id": "6AHdnuzB7wxK",
        "colab": {
          "base_uri": "https://localhost:8080/"
        },
        "outputId": "d8da1f93-36f3-4254-ba3a-e3f922df9c12"
      },
      "execution_count": 156,
      "outputs": [
        {
          "output_type": "stream",
          "name": "stdout",
          "text": [
            "# Forward fill\n",
            "0    NaN\n",
            "1    NaN\n",
            "2    NaN\n",
            "3    6.0\n",
            "4    4.0\n",
            "Name: Income, dtype: float64\n"
          ]
        }
      ]
    },
    {
      "cell_type": "code",
      "source": [
        "df_backward = df_nan.copy()\n",
        "df_backward['Income'] = df_backward['Income'].bfill()\n",
        "print(\"# Backward fill\")\n",
        "print(df_backward['Income'].head())"
      ],
      "metadata": {
        "colab": {
          "base_uri": "https://localhost:8080/"
        },
        "id": "LfKlMt-RIAq1",
        "outputId": "5435d5ca-5cd3-4d90-bfb3-7b92dc7f749f"
      },
      "execution_count": 157,
      "outputs": [
        {
          "output_type": "stream",
          "name": "stdout",
          "text": [
            "# Backward fill\n",
            "0    6.0\n",
            "1    6.0\n",
            "2    6.0\n",
            "3    6.0\n",
            "4    4.0\n",
            "Name: Income, dtype: float64\n"
          ]
        }
      ]
    },
    {
      "cell_type": "markdown",
      "source": [
        "## Tugas 11: GroupBy dan Agregasi"
      ],
      "metadata": {
        "id": "geg6mPyZBWrH"
      }
    },
    {
      "cell_type": "markdown",
      "source": [
        "### 11.a GroupBy Satu Kolom dengan Agregasi Tunggal"
      ],
      "metadata": {
        "id": "a8OmrQB7BY5G"
      }
    },
    {
      "cell_type": "markdown",
      "source": [
        "**Instruksi:**  \n",
        "1. Gunakan `groupby()` untuk mengelompokkan data berdasarkan kolom `Sex`.  \n",
        "2. Hitung **rata-rata** (`mean`) dari kolom `BMI` untuk setiap grup.  \n",
        "3. Simpan hasilnya dalam variabel `grouped_sex_bmi` dan tampilkan.\n",
        "\n",
        "**Expected Output:**\n",
        "```\n",
        "Sex\n",
        "0.0    27.107432\n",
        "1.0    28.869696\n",
        "Name: BMI, dtype: float64\n",
        "```"
      ],
      "metadata": {
        "id": "XQQRbNVUBUgp"
      }
    },
    {
      "cell_type": "code",
      "source": [
        "# Write your code here\n",
        "sex_bmi = df_backward.groupby('Sex')['BMI'].mean()\n",
        "print(sex_bmi)"
      ],
      "metadata": {
        "id": "9DAdWwOKBsVA",
        "colab": {
          "base_uri": "https://localhost:8080/"
        },
        "outputId": "92d72d01-6cb8-4833-890e-301ae9682531"
      },
      "execution_count": 158,
      "outputs": [
        {
          "output_type": "stream",
          "name": "stdout",
          "text": [
            "Sex\n",
            "0.0    28.130583\n",
            "1.0    28.702470\n",
            "Name: BMI, dtype: float64\n"
          ]
        }
      ]
    },
    {
      "cell_type": "markdown",
      "source": [
        "### 11.b GroupBy dengan Beberapa Kolom dan Agregasi Gabungan"
      ],
      "metadata": {
        "id": "OkoXBqLyDF6A"
      }
    },
    {
      "cell_type": "markdown",
      "source": [
        "**Instruksi:**  \n",
        "1. Gunakan `groupby()` untuk mengelompokkan data berdasarkan `Sex` dan `Smoker`.  \n",
        "2. Gunakan `.agg()` untuk menghitung:\n",
        "   - Rata-rata (`mean`) dari kolom `BMI`  \n",
        "   - Jumlah (`sum`) dari kolom `Stroke`  \n",
        "   - Jumlah baris (`count`) dari kolom `Age`  \n",
        "3. Simpan hasilnya dalam variabel `grouped_multiagg` dan tampilkan.\n",
        "\n",
        "**Expected Output:**\n",
        "```\n",
        "            BMI         Stroke Age\n",
        "Sex Smoker                         \n",
        "0.0 0.0     27.050351   18520  68500\n",
        "    1.0     27.162215   21462  78472\n",
        "1.0 0.0     28.572146    8383  27791\n",
        "    1.0     29.111239    8993  29391\n",
        "```"
      ],
      "metadata": {
        "id": "VfCzyttwDQLI"
      }
    },
    {
      "cell_type": "code",
      "source": [
        "# Write your code here\n",
        "grouped_multiagg = df.groupby(['Sex','Smoker']).agg({'BMI':'mean','Stroke':'sum','Age':'count'})\n",
        "print(grouped_multiagg)"
      ],
      "metadata": {
        "id": "OJcdGBYZDUf_",
        "colab": {
          "base_uri": "https://localhost:8080/"
        },
        "outputId": "590f6f85-5e24-47c3-b924-79a11602bd32"
      },
      "execution_count": 159,
      "outputs": [
        {
          "output_type": "stream",
          "name": "stdout",
          "text": [
            "                  BMI  Stroke    Age\n",
            "Sex Smoker                          \n",
            "0.0 0.0     28.072932  2666.0  84915\n",
            "    1.0     28.216390  3020.0  57059\n",
            "1.0 0.0     28.644670  1544.0  56342\n",
            "    1.0     28.761072  3062.0  55364\n"
          ]
        }
      ]
    },
    {
      "cell_type": "markdown",
      "source": [
        "## Tugas 12: Transformasi Nilai dengan `.transform()`"
      ],
      "metadata": {
        "id": "565liPQsEWyH"
      }
    },
    {
      "cell_type": "markdown",
      "source": [
        "### 12.a Menghitung Z-Score Kolom BMI per Grup `Sex`"
      ],
      "metadata": {
        "id": "przJ_HbLEXcN"
      }
    },
    {
      "cell_type": "markdown",
      "source": [
        "**Instruksi:**  \n",
        "1. Gunakan `groupby()` berdasarkan kolom `Sex`.  \n",
        "2. Untuk tiap grup, hitung **z-score** dari kolom `BMI` menggunakan rumus:  \n",
        "   \\[(nilai - rata-rata grup) / standar deviasi grup\\]  \n",
        "3. Simpan hasilnya ke kolom baru bernama `BMI_zscore`.  \n",
        "4. Tampilkan 5 baris pertama dari kolom `Sex`, `BMI`, dan `BMI_zscore`.\n",
        "\n",
        "**Expected Output:**\n",
        "```\n",
        "   Sex   BMI   BMI_zscore\n",
        "0  0.0  40.0     1.998579\n",
        "1  0.0  25.0    -0.184745\n",
        "2  0.0  28.0     0.073631\n",
        "3  0.0  27.0    -0.012557\n",
        "4  0.0  24.0    -0.270378\n",
        "```"
      ],
      "metadata": {
        "id": "iMS6cl3XEZAL"
      }
    },
    {
      "cell_type": "code",
      "source": [
        "# Write your code here\n",
        "grouped_bmi = df.groupby('Sex')\n",
        "BMI_zscore = grouped_bmi['BMI'].transform(lambda x: (x - x.mean()) / x.std())\n",
        "df['BMI_zscore'] = BMI_zscore\n",
        "print(df[['Sex','BMI','BMI_zscore']].head(5))"
      ],
      "metadata": {
        "id": "cHkCErNKEcuP",
        "colab": {
          "base_uri": "https://localhost:8080/"
        },
        "outputId": "06bc8132-caf8-4e53-b8f0-b1671cc18c34"
      },
      "execution_count": 160,
      "outputs": [
        {
          "output_type": "stream",
          "name": "stdout",
          "text": [
            "   Sex   BMI  BMI_zscore\n",
            "0  0.0  40.0    1.674538\n",
            "1  0.0  25.0   -0.441664\n",
            "2  0.0  28.0   -0.018423\n",
            "3  0.0  27.0   -0.159503\n",
            "4  0.0  24.0   -0.582744\n"
          ]
        }
      ]
    },
    {
      "cell_type": "markdown",
      "source": [
        "### 12.b Mengurangkan Rata-rata BMI per Grup `Sex`"
      ],
      "metadata": {
        "id": "_Obt47heEhEg"
      }
    },
    {
      "cell_type": "markdown",
      "source": [
        "**Instruksi:**  \n",
        "1. Gunakan `groupby()` berdasarkan kolom `Sex`.  \n",
        "2. Hitung rata-rata `BMI` untuk tiap grup dan kurangkan nilai BMI dengan rata-rata tersebut.  \n",
        "3. Simpan hasilnya ke kolom baru bernama `BMI_centered`.  \n",
        "4. Tampilkan 5 baris pertama dari kolom `Sex`, `BMI`, dan `BMI_centered`.\n",
        "\n",
        "**Expected Output:**\n",
        "```\n",
        "   Sex   BMI    BMI_centered\n",
        "0  0.0  40.0       12.892568\n",
        "1  0.0  25.0       -2.107432\n",
        "2  0.0  28.0        0.892568\n",
        "3  0.0  27.0       -0.107432\n",
        "4  0.0  24.0       -3.107432\n",
        "```"
      ],
      "metadata": {
        "id": "cJDMSY6IEjJT"
      }
    },
    {
      "cell_type": "code",
      "source": [
        "# Write your code here\n",
        "BMI_centered = grouped_bmi['BMI'].transform(lambda x: x - x.mean())\n",
        "df['BMI_centered'] = BMI_centered\n",
        "print(df[['Sex','BMI','BMI_centered']].head(5))"
      ],
      "metadata": {
        "id": "fb_PQ_nBEtg5",
        "colab": {
          "base_uri": "https://localhost:8080/"
        },
        "outputId": "bb8aa76a-aba0-43b5-8b53-bf9f38cc9f87"
      },
      "execution_count": 161,
      "outputs": [
        {
          "output_type": "stream",
          "name": "stdout",
          "text": [
            "   Sex   BMI  BMI_centered\n",
            "0  0.0  40.0     11.869413\n",
            "1  0.0  25.0     -3.130587\n",
            "2  0.0  28.0     -0.130587\n",
            "3  0.0  27.0     -1.130587\n",
            "4  0.0  24.0     -4.130587\n"
          ]
        }
      ]
    },
    {
      "cell_type": "markdown",
      "source": [
        "## Tugas 13: Menggunakan `pivot_table()`"
      ],
      "metadata": {
        "id": "bf_bm2dAFXzp"
      }
    },
    {
      "cell_type": "markdown",
      "source": [
        "### 13.a Pivot Table: Rata-rata BMI Berdasarkan `Sex` dan `Smoker`"
      ],
      "metadata": {
        "id": "30kxVqwdFYpr"
      }
    },
    {
      "cell_type": "markdown",
      "source": [
        "**Instruksi:**  \n",
        "1. Buat pivot table dari dataset `df` untuk menghitung **rata-rata** (`mean`) `BMI`.  \n",
        "2. Gunakan `Sex` sebagai index dan `Smoker` sebagai kolom pivot.  \n",
        "3. Simpan hasilnya ke variabel `pivot_bmi` dan tampilkan.\n",
        "\n",
        "**Expected Output:**\n",
        "```\n",
        "Smoker        0.0       1.0\n",
        "Sex                          \n",
        "0.0       27.050351  27.162215\n",
        "1.0       28.572146  29.111239\n",
        "```"
      ],
      "metadata": {
        "id": "6gaYvY6dFaJu"
      }
    },
    {
      "cell_type": "code",
      "source": [
        "# Write your code here\n",
        "pivot_bmi = df.pivot_table(index='Sex',columns='Smoker',values='BMI',aggfunc='mean')\n",
        "print(pivot_bmi)"
      ],
      "metadata": {
        "id": "S2Elu90EFgbQ",
        "colab": {
          "base_uri": "https://localhost:8080/"
        },
        "outputId": "cc638fb5-0df1-4f49-c5ae-9923bd8c6ed7"
      },
      "execution_count": 162,
      "outputs": [
        {
          "output_type": "stream",
          "name": "stdout",
          "text": [
            "Smoker        0.0        1.0\n",
            "Sex                         \n",
            "0.0     28.072932  28.216390\n",
            "1.0     28.644670  28.761072\n"
          ]
        }
      ]
    },
    {
      "cell_type": "markdown",
      "source": [
        "### 13.b Pivot Table: Menampilkan Rata-rata dan Jumlah Stroke Berdasarkan `Sex` dan `Smoker`"
      ],
      "metadata": {
        "id": "2KKqW-9GFsVp"
      }
    },
    {
      "cell_type": "markdown",
      "source": [
        "**Instruksi:**  \n",
        "1. Buat pivot table dengan `Sex` sebagai index dan `Smoker` sebagai kolom.  \n",
        "2. Gunakan dua kolom nilai: `BMI` dan `Stroke`.  \n",
        "3. Hitung **rata-rata (`mean`)** untuk `BMI` dan **jumlah (`sum`)** untuk `Stroke`.  \n",
        "4. Simpan ke dalam variabel `pivot_multi` dan tampilkan.\n",
        "\n",
        "**Expected Output:**\n",
        "```\n",
        "              BMI                  Stroke           \n",
        "Smoker        0.0       1.0         0.0      1.0\n",
        "Sex                                            \n",
        "0.0       27.050351  27.162215   18520.0  21462.0\n",
        "1.0       28.572146  29.111239    8383.0   8993.0\n",
        "```"
      ],
      "metadata": {
        "id": "FS7i1_D_FxKq"
      }
    },
    {
      "cell_type": "code",
      "source": [
        "# Write your code here\n",
        "pivot_multi = df.pivot_table(index='Sex', columns='Smoker', values=['BMI','Stroke'], aggfunc={'BMI':'mean','Stroke': 'sum'})\n",
        "print(pivot_multi)"
      ],
      "metadata": {
        "id": "seJ5lUAIF14C",
        "colab": {
          "base_uri": "https://localhost:8080/"
        },
        "outputId": "0fc0354f-432a-43ad-9172-905d3296a63b"
      },
      "execution_count": 163,
      "outputs": [
        {
          "output_type": "stream",
          "name": "stdout",
          "text": [
            "              BMI             Stroke        \n",
            "Smoker        0.0        1.0     0.0     1.0\n",
            "Sex                                         \n",
            "0.0     28.072932  28.216390  2666.0  3020.0\n",
            "1.0     28.644670  28.761072  1544.0  3062.0\n"
          ]
        }
      ]
    },
    {
      "cell_type": "markdown",
      "source": [
        "# Matplotlib"
      ],
      "metadata": {
        "id": "vbByjk4oGlMw"
      }
    },
    {
      "cell_type": "markdown",
      "source": [
        "## 1. Line Plot (`plt.plot`)"
      ],
      "metadata": {
        "id": "Vs_zwSouU3D2"
      }
    },
    {
      "cell_type": "markdown",
      "source": [
        "**Instruksi:**  \n",
        "1. Kelompokkan data berdasarkan kolom `Age` menggunakan `.groupby()`.  \n",
        "2. Hitung rata-rata dari kolom `BMI` untuk tiap kelompok `Age`.  \n",
        "3. Simpan hasil ke dalam `mean_bmi_by_age`.  \n",
        "4. Buat line plot dengan sumbu X = `Age` dan sumbu Y = `BMI`.\n",
        "\n",
        "**Expected Output:**\n",
        "```\n",
        "   Age        BMI\n",
        "0  1.0  26.088070\n",
        "1  2.0  27.606344\n",
        "2  3.0  28.431538\n",
        "...\n",
        "\n",
        "(pada line plot)\n",
        "```"
      ],
      "metadata": {
        "id": "e4Pb90RQU5TM"
      }
    },
    {
      "cell_type": "code",
      "source": [
        "  # Write your code here\n",
        "  import matplotlib.pyplot as plt\n",
        "  mean_bmi_by_age = df.groupby('BMI')['Age'].mean()\n",
        "  plt.plot(mean_bmi_by_age.index, mean_bmi_by_age.values)\n",
        "  plt.xlabel('Age')\n",
        "  plt.ylabel('BMI')\n",
        "  plt.show()"
      ],
      "metadata": {
        "id": "yROSkhslHTmM",
        "colab": {
          "base_uri": "https://localhost:8080/",
          "height": 449
        },
        "outputId": "87647a1d-7702-405b-864e-62a6dcfcd4c8"
      },
      "execution_count": 164,
      "outputs": [
        {
          "output_type": "display_data",
          "data": {
            "text/plain": [
              "<Figure size 640x480 with 1 Axes>"
            ],
            "image/png": "[encoded data removed]"
          },
          "metadata": {}
        }
      ]
    },
    {
      "cell_type": "markdown",
      "source": [
        "## 2. Bar Plot (`plt.bar`)"
      ],
      "metadata": {
        "id": "7TfDLbi-VXAX"
      }
    },
    {
      "cell_type": "markdown",
      "source": [
        "**Instruksi:**  \n",
        "1. Filter data dengan kondisi `Diabetes_012 == 1.0`.  \n",
        "2. Kelompokkan berdasarkan kolom `Income` dan hitung jumlah kemunculannya.  \n",
        "3. Simpan hasilnya dalam `count_by_income`.  \n",
        "4. Buat bar plot dari hasil tersebut.\n",
        "\n",
        "**Expected Output:**\n",
        "```\n",
        "   Income  count\n",
        "0     1.0    314\n",
        "1     2.0    356\n",
        "2     3.0    421\n",
        "...\n",
        "\n",
        "(pada bar plot)\n",
        "```"
      ],
      "metadata": {
        "id": "199XfL6cVaqn"
      }
    },
    {
      "cell_type": "code",
      "source": [
        "# Write your code here\n",
        "filtered = df[df['Diabetes_012']==1.0]\n",
        "count_by_income = filtered.groupby('Income').size()\n",
        "plt.bar(count_by_income.index, count_by_income.values)\n",
        "plt.xlabel('Income')\n",
        "plt.ylabel('Count')\n",
        "plt.show()"
      ],
      "metadata": {
        "id": "8Jum83FXVLC9",
        "colab": {
          "base_uri": "https://localhost:8080/",
          "height": 449
        },
        "outputId": "3044bcfa-03f3-47fc-ae10-7d6e2ad9bce7"
      },
      "execution_count": 165,
      "outputs": [
        {
          "output_type": "display_data",
          "data": {
            "text/plain": [
              "<Figure size 640x480 with 1 Axes>"
            ],
            "image/png": "[encoded data removed]"
          },
          "metadata": {}
        }
      ]
    },
    {
      "cell_type": "markdown",
      "source": [
        "## 3. Horizontal Bar Plot (`plt.barh`)"
      ],
      "metadata": {
        "id": "mB0vKA36Vual"
      }
    },
    {
      "cell_type": "markdown",
      "source": [
        "**Instruksi:**  \n",
        "1. Kelompokkan data berdasarkan kolom `GenHlth`.  \n",
        "2. Hitung rata-rata dari kolom `PhysHlth` untuk tiap kategori.  \n",
        "3. Simpan hasilnya ke `avg_phys_by_gen`.  \n",
        "4. Buat plot batang horizontal dari hasil tersebut.\n",
        "\n",
        "**Expected Output:**\n",
        "```\n",
        "   GenHlth   PhysHlth\n",
        "0      1.0   0.862602\n",
        "1      2.0   1.532374\n",
        "2      3.0   3.394257\n",
        "...\n",
        "\n",
        "(pada horizontal bar plot)\n",
        "```"
      ],
      "metadata": {
        "id": "GtkOl6aZVvon"
      }
    },
    {
      "cell_type": "code",
      "source": [
        "# Write your code here\n",
        "group_genhlth = df.groupby('GenHlth')\n",
        "avg_phys_by_gen = group_genhlth['PhysHlth'].mean()\n",
        "plt.barh(avg_phys_by_gen.index, avg_phys_by_gen.values)\n",
        "plt.xlabel('Average Physical Health')\n",
        "plt.ylabel('General Health')\n",
        "plt.show()"
      ],
      "metadata": {
        "id": "eYpWH9WqVhdk",
        "colab": {
          "base_uri": "https://localhost:8080/",
          "height": 449
        },
        "outputId": "d0c7191d-cc4d-4ce7-96f2-b945c30e5d95"
      },
      "execution_count": 166,
      "outputs": [
        {
          "output_type": "display_data",
          "data": {
            "text/plain": [
              "<Figure size 640x480 with 1 Axes>"
            ],
            "image/png": "[encoded data removed]"
          },
          "metadata": {}
        }
      ]
    },
    {
      "cell_type": "markdown",
      "source": [
        "## 4. Pie Chart (`plt.pie`)"
      ],
      "metadata": {
        "id": "Ra9LykxqWAmz"
      }
    },
    {
      "cell_type": "markdown",
      "source": [
        "**Instruksi:**  \n",
        "1. Gunakan `.value_counts()` untuk menghitung jumlah kategori pada kolom `Sex`.  \n",
        "2. Simpan hasilnya ke `sex_counts`.  \n",
        "3. Buat pie chart dari hasil tersebut.\n",
        "\n",
        "**Expected Output:**\n",
        "```\n",
        "{0.0: 141974, 1.0: 111706}\n",
        "\n",
        "(pada pie chart)\n",
        "```"
      ],
      "metadata": {
        "id": "jIaJn1wuWR2g"
      }
    },
    {
      "cell_type": "code",
      "source": [
        "# Write your code here\n",
        "sex_counts = df.value_counts('Sex')\n",
        "plt.pie(sex_counts, labels=sex_counts.index)\n",
        "plt.show()"
      ],
      "metadata": {
        "id": "g_ZvyBZ7V8wU",
        "colab": {
          "base_uri": "https://localhost:8080/",
          "height": 406
        },
        "outputId": "b45c7390-37d3-4213-ea71-f76c4c271d3b"
      },
      "execution_count": 167,
      "outputs": [
        {
          "output_type": "display_data",
          "data": {
            "text/plain": [
              "<Figure size 640x480 with 1 Axes>"
            ],
            "image/png": "[encoded data removed]"
          },
          "metadata": {}
        }
      ]
    },
    {
      "cell_type": "markdown",
      "source": [
        "## 5. Stack Plot (`plt.stackplot`)"
      ],
      "metadata": {
        "id": "stxbONC9atWm"
      }
    },
    {
      "cell_type": "markdown",
      "source": [
        "**Instruksi:**  \n",
        "1. Kelompokkan data berdasarkan kolom `Age` menggunakan `.groupby()`.  \n",
        "2. Hitung total `HighBP`, `HighChol`, dan `Stroke` untuk masing-masing `Age`.  \n",
        "3. Ambil hanya 10 kelompok `Age` pertama.  \n",
        "4. Simpan hasilnya ke `stack_data`.\n",
        "4. Buat stack plot menggunakan `plt.stackplot()`.\n",
        "\n",
        "**Expected Output:**\n",
        "```\n",
        "   Age  HighBP  HighChol  Stroke\n",
        "0  1.0   492.0     502.0    21.0\n",
        "1  2.0   881.0     953.0    29.0\n",
        "...\n",
        "\n",
        "(pada stack plot)\n",
        "```"
      ],
      "metadata": {
        "id": "yw39FoF4aujT"
      }
    },
    {
      "cell_type": "code",
      "source": [
        "# Write your code here\n",
        "group_age = df.groupby('Age')\n",
        "stack_data = group_age[['HighBP','HighChol','Stroke']].sum().head(10)\n",
        "plt.stackplot(stack_data.index, stack_data.T)\n",
        "plt.show()"
      ],
      "metadata": {
        "id": "xHEqB_4KYH2i",
        "colab": {
          "base_uri": "https://localhost:8080/",
          "height": 430
        },
        "outputId": "b9f677d2-2001-4b43-d7fd-e95b92d96395"
      },
      "execution_count": 168,
      "outputs": [
        {
          "output_type": "display_data",
          "data": {
            "text/plain": [
              "<Figure size 640x480 with 1 Axes>"
            ],
            "image/png": "[encoded data removed]"
          },
          "metadata": {}
        }
      ]
    },
    {
      "cell_type": "markdown",
      "source": [
        "## 6. Histogram (`plt.hist`)"
      ],
      "metadata": {
        "id": "JJQTrxL2cT4T"
      }
    },
    {
      "cell_type": "markdown",
      "source": [
        "**Instruksi:**  \n",
        "1. Ambil kolom `BMI` dan hapus nilai yang hilang (NaN) menggunakan `.dropna()`.  \n",
        "2. Buat histogram dengan 30 bins.\n",
        "\n",
        "**Expected Output:**\n",
        "```\n",
        "(distribusi nilai BMI pada histogram)\n",
        "```"
      ],
      "metadata": {
        "id": "EVLIWC1bcdSa"
      }
    },
    {
      "cell_type": "code",
      "source": [
        "# Write your code here\n",
        "bmi_data = df['BMI'].dropna()\n",
        "plt.hist(bmi_data, bins=30)\n",
        "plt.xlabel('BMI')\n",
        "plt.show()"
      ],
      "metadata": {
        "id": "qgEzXm0Ab5Xf",
        "colab": {
          "base_uri": "https://localhost:8080/",
          "height": 454
        },
        "outputId": "04c17a50-ccbc-4d0f-d424-ca93d6fff737"
      },
      "execution_count": 169,
      "outputs": [
        {
          "output_type": "display_data",
          "data": {
            "text/plain": [
              "<Figure size 640x480 with 1 Axes>"
            ],
            "image/png": "[encoded data removed]"
          },
          "metadata": {}
        }
      ]
    },
    {
      "cell_type": "markdown",
      "source": [
        "## 7. Scatter Plot (`plt.scatter`)"
      ],
      "metadata": {
        "id": "H_LCtQPwctOD"
      }
    },
    {
      "cell_type": "markdown",
      "source": [
        "**Instruksi:**  \n",
        "1. Ambil kolom `MentHlth` dan `PhysHlth`, lalu hapus baris yang mengandung `NaN`.  \n",
        "2. Simpan pada `scatter_df`.\n",
        "3. Buat scatter plot dengan sumbu X = `MentHlth`, Y = `PhysHlth`.\n",
        "\n",
        "**Expected Output:**\n",
        "```\n",
        "   MentHlth  PhysHlth\n",
        "0      18.0      15.0\n",
        "1       0.0       0.0\n",
        "2      30.0      30.0\n",
        "...\n",
        "\n",
        "(pada scatter plot)\n",
        "```"
      ],
      "metadata": {
        "id": "7ZteOkjwdt89"
      }
    },
    {
      "cell_type": "code",
      "source": [
        "# Write your code here\n",
        "scatter_df = df[['MentHlth', 'PhysHlth']].dropna()\n",
        "plt.scatter(scatter_df['MentHlth'], scatter_df['PhysHlth'])\n",
        "plt.xlabel('MentHlth')\n",
        "plt.ylabel('PhysHlth')\n",
        "plt.show()"
      ],
      "metadata": {
        "id": "6nJ_MtZ4cl9U",
        "colab": {
          "base_uri": "https://localhost:8080/",
          "height": 449
        },
        "outputId": "5c51255e-0382-4a58-c93b-268baac44898"
      },
      "execution_count": 170,
      "outputs": [
        {
          "output_type": "display_data",
          "data": {
            "text/plain": [
              "<Figure size 640x480 with 1 Axes>"
            ],
            "image/png": "[encoded data removed]"
          },
          "metadata": {}
        }
      ]
    },
    {
      "cell_type": "markdown",
      "source": [
        "## 8. Subplot (`plt.subplot`)"
      ],
      "metadata": {
        "id": "M5iKrBCWeFHV"
      }
    },
    {
      "cell_type": "markdown",
      "source": [
        "**Instruksi:**  \n",
        "1. Buat 2 subplot secara vertikal.  \n",
        "2. Subplot 1: Histogram `BMI`.  \n",
        "3. Subplot 2: Histogram `Age`.\n",
        "\n",
        "**Expected Output:**\n",
        "```\n",
        "(sebaran nilai BMI dan Age pada histogram pada subplot)\n",
        "```"
      ],
      "metadata": {
        "id": "eiF4LYqoeIKw"
      }
    },
    {
      "cell_type": "code",
      "source": [
        "# Write your code here\n",
        "plt.subplot(2, 1, 1)\n",
        "plt.hist(df['BMI'].dropna())\n",
        "plt.xlabel('BMI')\n",
        "plt.subplot(2, 1, 2)\n",
        "plt.hist(df['Age'].dropna())\n",
        "plt.xlabel('Age')\n",
        "plt.show()\n"
      ],
      "metadata": {
        "id": "vVeyK4MgeARv",
        "colab": {
          "base_uri": "https://localhost:8080/",
          "height": 449
        },
        "outputId": "064c6d6e-8445-42db-bcf3-60c18de31c42"
      },
      "execution_count": 171,
      "outputs": [
        {
          "output_type": "display_data",
          "data": {
            "text/plain": [
              "<Figure size 640x480 with 2 Axes>"
            ],
            "image/png": "[encoded data removed]"
          },
          "metadata": {}
        }
      ]
    },
    {
      "cell_type": "markdown",
      "source": [
        "## 9. Subplots Grid (`plt.subplots`)"
      ],
      "metadata": {
        "id": "BMa9bw19eo75"
      }
    },
    {
      "cell_type": "markdown",
      "source": [
        "**Instruksi:**  \n",
        "1. Buat layout grid 2x2 untuk 4 visualisasi berikut:  \n",
        "   - Jumlah kategori `Diabetes_012` (bar plot)  \n",
        "   - Histogram `BMI`  \n",
        "   - Scatter plot `BMI` vs `Age`  \n",
        "   - Pie chart `Sex`  \n",
        "2. Gunakan `plt.subplots(2, 2)` untuk membuat layout.\n",
        "\n",
        "**Expected Output:**\n",
        "```\n",
        "(keempat plot pada subplots grid 2x2)\n",
        "```"
      ],
      "metadata": {
        "id": "1e1FBoL4ewUP"
      }
    },
    {
      "cell_type": "code",
      "source": [
        "# Write your code here\n",
        "fig, axes = plt.subplots(2, 2, figsize=(10,10))\n",
        "counts = df['Diabetes_012'].value_counts()\n",
        "axes[0,0].bar(counts.index, counts.values)\n",
        "axes[0,0].set_xlabel('Diabetes_012')\n",
        "\n",
        "axes[0,1].hist(df['BMI'].dropna())\n",
        "axes[0,1].set_xlabel('BMI')\n",
        "\n",
        "axes[1,0].scatter(df['BMI'], df['Age'])\n",
        "axes[1,0].set_xlabel('BMI')\n",
        "axes[1,0].set_ylabel('Age')\n",
        "\n",
        "axes[1,1].pie(df['Sex'].value_counts(), labels=df['Sex'].value_counts().index)"
      ],
      "metadata": {
        "id": "dqnbb6fQeuzf",
        "colab": {
          "base_uri": "https://localhost:8080/",
          "height": 924
        },
        "outputId": "da232443-6bed-4cda-d8f0-4c6e472376b5"
      },
      "execution_count": 173,
      "outputs": [
        {
          "output_type": "execute_result",
          "data": {
            "text/plain": [
              "([<matplotlib.patches.Wedge at 0x78f0935accb0>,\n",
              "  <matplotlib.patches.Wedge at 0x78f098a2aea0>],\n",
              " [Text(-0.20495787096068446, 1.080736911154266, '0.0'),\n",
              "  Text(0.2049580942755847, -1.0807368688033738, '1.0')])"
            ]
          },
          "metadata": {},
          "execution_count": 173
        },
        {
          "output_type": "display_data",
          "data": {
            "text/plain": [
              "<Figure size 1000x1000 with 4 Axes>"
            ],
            "image/png": "[encoded data removed]"
          },
          "metadata": {}
        }
      ]
    }
  ]
}